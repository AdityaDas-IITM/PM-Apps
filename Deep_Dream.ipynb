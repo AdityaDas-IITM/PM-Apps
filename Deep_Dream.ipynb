{
  "nbformat": 4,
  "nbformat_minor": 0,
  "metadata": {
    "accelerator": "GPU",
    "colab": {
      "name": "MNIST_PS.ipynb",
      "provenance": []
    },
    "kernelspec": {
      "display_name": "Python 3",
      "language": "python",
      "name": "python3"
    },
    "language_info": {
      "codemirror_mode": {
        "name": "ipython",
        "version": 3
      },
      "file_extension": ".py",
      "mimetype": "text/x-python",
      "name": "python",
      "nbconvert_exporter": "python",
      "pygments_lexer": "ipython3",
      "version": "3.7.6"
    },
    "widgets": {
      "application/vnd.jupyter.widget-state+json": {
        "f84825c7982e4ae48d7f05591d424e21": {
          "model_module": "@jupyter-widgets/controls",
          "model_name": "HBoxModel",
          "state": {
            "_view_name": "HBoxView",
            "_dom_classes": [],
            "_model_name": "HBoxModel",
            "_view_module": "@jupyter-widgets/controls",
            "_model_module_version": "1.5.0",
            "_view_count": null,
            "_view_module_version": "1.5.0",
            "box_style": "",
            "layout": "IPY_MODEL_5f9ff1339309452bb1cfc6ba0c67687c",
            "_model_module": "@jupyter-widgets/controls",
            "children": [
              "IPY_MODEL_1ebfbd5766e84f8984a3f325d9ce4f68",
              "IPY_MODEL_3d298b3504b94b19855692fefe353ca9"
            ]
          }
        },
        "5f9ff1339309452bb1cfc6ba0c67687c": {
          "model_module": "@jupyter-widgets/base",
          "model_name": "LayoutModel",
          "state": {
            "_view_name": "LayoutView",
            "grid_template_rows": null,
            "right": null,
            "justify_content": null,
            "_view_module": "@jupyter-widgets/base",
            "overflow": null,
            "_model_module_version": "1.2.0",
            "_view_count": null,
            "flex_flow": null,
            "width": null,
            "min_width": null,
            "border": null,
            "align_items": null,
            "bottom": null,
            "_model_module": "@jupyter-widgets/base",
            "top": null,
            "grid_column": null,
            "overflow_y": null,
            "overflow_x": null,
            "grid_auto_flow": null,
            "grid_area": null,
            "grid_template_columns": null,
            "flex": null,
            "_model_name": "LayoutModel",
            "justify_items": null,
            "grid_row": null,
            "max_height": null,
            "align_content": null,
            "visibility": null,
            "align_self": null,
            "height": null,
            "min_height": null,
            "padding": null,
            "grid_auto_rows": null,
            "grid_gap": null,
            "max_width": null,
            "order": null,
            "_view_module_version": "1.2.0",
            "grid_template_areas": null,
            "object_position": null,
            "object_fit": null,
            "grid_auto_columns": null,
            "margin": null,
            "display": null,
            "left": null
          }
        },
        "1ebfbd5766e84f8984a3f325d9ce4f68": {
          "model_module": "@jupyter-widgets/controls",
          "model_name": "FloatProgressModel",
          "state": {
            "_view_name": "ProgressView",
            "style": "IPY_MODEL_363a65bd98144ff3a5aee52518b78ca8",
            "_dom_classes": [],
            "description": "",
            "_model_name": "FloatProgressModel",
            "bar_style": "success",
            "max": 9912422,
            "_view_module": "@jupyter-widgets/controls",
            "_model_module_version": "1.5.0",
            "value": 9912422,
            "_view_count": null,
            "_view_module_version": "1.5.0",
            "orientation": "horizontal",
            "min": 0,
            "description_tooltip": null,
            "_model_module": "@jupyter-widgets/controls",
            "layout": "IPY_MODEL_362d34d44fb04908b6c30713b48522df"
          }
        },
        "3d298b3504b94b19855692fefe353ca9": {
          "model_module": "@jupyter-widgets/controls",
          "model_name": "HTMLModel",
          "state": {
            "_view_name": "HTMLView",
            "style": "IPY_MODEL_5136e1b5027f4231abc737a34e3fbb35",
            "_dom_classes": [],
            "description": "",
            "_model_name": "HTMLModel",
            "placeholder": "​",
            "_view_module": "@jupyter-widgets/controls",
            "_model_module_version": "1.5.0",
            "value": " 9913344/? [02:49&lt;00:00, 58557.07it/s]",
            "_view_count": null,
            "_view_module_version": "1.5.0",
            "description_tooltip": null,
            "_model_module": "@jupyter-widgets/controls",
            "layout": "IPY_MODEL_b51037d3a05f4734b2d0377cf4764ef5"
          }
        },
        "363a65bd98144ff3a5aee52518b78ca8": {
          "model_module": "@jupyter-widgets/controls",
          "model_name": "ProgressStyleModel",
          "state": {
            "_view_name": "StyleView",
            "_model_name": "ProgressStyleModel",
            "description_width": "initial",
            "_view_module": "@jupyter-widgets/base",
            "_model_module_version": "1.5.0",
            "_view_count": null,
            "_view_module_version": "1.2.0",
            "bar_color": null,
            "_model_module": "@jupyter-widgets/controls"
          }
        },
        "362d34d44fb04908b6c30713b48522df": {
          "model_module": "@jupyter-widgets/base",
          "model_name": "LayoutModel",
          "state": {
            "_view_name": "LayoutView",
            "grid_template_rows": null,
            "right": null,
            "justify_content": null,
            "_view_module": "@jupyter-widgets/base",
            "overflow": null,
            "_model_module_version": "1.2.0",
            "_view_count": null,
            "flex_flow": null,
            "width": null,
            "min_width": null,
            "border": null,
            "align_items": null,
            "bottom": null,
            "_model_module": "@jupyter-widgets/base",
            "top": null,
            "grid_column": null,
            "overflow_y": null,
            "overflow_x": null,
            "grid_auto_flow": null,
            "grid_area": null,
            "grid_template_columns": null,
            "flex": null,
            "_model_name": "LayoutModel",
            "justify_items": null,
            "grid_row": null,
            "max_height": null,
            "align_content": null,
            "visibility": null,
            "align_self": null,
            "height": null,
            "min_height": null,
            "padding": null,
            "grid_auto_rows": null,
            "grid_gap": null,
            "max_width": null,
            "order": null,
            "_view_module_version": "1.2.0",
            "grid_template_areas": null,
            "object_position": null,
            "object_fit": null,
            "grid_auto_columns": null,
            "margin": null,
            "display": null,
            "left": null
          }
        },
        "5136e1b5027f4231abc737a34e3fbb35": {
          "model_module": "@jupyter-widgets/controls",
          "model_name": "DescriptionStyleModel",
          "state": {
            "_view_name": "StyleView",
            "_model_name": "DescriptionStyleModel",
            "description_width": "",
            "_view_module": "@jupyter-widgets/base",
            "_model_module_version": "1.5.0",
            "_view_count": null,
            "_view_module_version": "1.2.0",
            "_model_module": "@jupyter-widgets/controls"
          }
        },
        "b51037d3a05f4734b2d0377cf4764ef5": {
          "model_module": "@jupyter-widgets/base",
          "model_name": "LayoutModel",
          "state": {
            "_view_name": "LayoutView",
            "grid_template_rows": null,
            "right": null,
            "justify_content": null,
            "_view_module": "@jupyter-widgets/base",
            "overflow": null,
            "_model_module_version": "1.2.0",
            "_view_count": null,
            "flex_flow": null,
            "width": null,
            "min_width": null,
            "border": null,
            "align_items": null,
            "bottom": null,
            "_model_module": "@jupyter-widgets/base",
            "top": null,
            "grid_column": null,
            "overflow_y": null,
            "overflow_x": null,
            "grid_auto_flow": null,
            "grid_area": null,
            "grid_template_columns": null,
            "flex": null,
            "_model_name": "LayoutModel",
            "justify_items": null,
            "grid_row": null,
            "max_height": null,
            "align_content": null,
            "visibility": null,
            "align_self": null,
            "height": null,
            "min_height": null,
            "padding": null,
            "grid_auto_rows": null,
            "grid_gap": null,
            "max_width": null,
            "order": null,
            "_view_module_version": "1.2.0",
            "grid_template_areas": null,
            "object_position": null,
            "object_fit": null,
            "grid_auto_columns": null,
            "margin": null,
            "display": null,
            "left": null
          }
        },
        "8c58ebe1d493409da10dd8ae5a83ffa4": {
          "model_module": "@jupyter-widgets/controls",
          "model_name": "HBoxModel",
          "state": {
            "_view_name": "HBoxView",
            "_dom_classes": [],
            "_model_name": "HBoxModel",
            "_view_module": "@jupyter-widgets/controls",
            "_model_module_version": "1.5.0",
            "_view_count": null,
            "_view_module_version": "1.5.0",
            "box_style": "",
            "layout": "IPY_MODEL_602ffd84345e43f9848740aa4fe15b18",
            "_model_module": "@jupyter-widgets/controls",
            "children": [
              "IPY_MODEL_df58c4f293b140e394ca0823f91674d5",
              "IPY_MODEL_f231418d99d24861b9f817fa3a8486f8"
            ]
          }
        },
        "602ffd84345e43f9848740aa4fe15b18": {
          "model_module": "@jupyter-widgets/base",
          "model_name": "LayoutModel",
          "state": {
            "_view_name": "LayoutView",
            "grid_template_rows": null,
            "right": null,
            "justify_content": null,
            "_view_module": "@jupyter-widgets/base",
            "overflow": null,
            "_model_module_version": "1.2.0",
            "_view_count": null,
            "flex_flow": null,
            "width": null,
            "min_width": null,
            "border": null,
            "align_items": null,
            "bottom": null,
            "_model_module": "@jupyter-widgets/base",
            "top": null,
            "grid_column": null,
            "overflow_y": null,
            "overflow_x": null,
            "grid_auto_flow": null,
            "grid_area": null,
            "grid_template_columns": null,
            "flex": null,
            "_model_name": "LayoutModel",
            "justify_items": null,
            "grid_row": null,
            "max_height": null,
            "align_content": null,
            "visibility": null,
            "align_self": null,
            "height": null,
            "min_height": null,
            "padding": null,
            "grid_auto_rows": null,
            "grid_gap": null,
            "max_width": null,
            "order": null,
            "_view_module_version": "1.2.0",
            "grid_template_areas": null,
            "object_position": null,
            "object_fit": null,
            "grid_auto_columns": null,
            "margin": null,
            "display": null,
            "left": null
          }
        },
        "df58c4f293b140e394ca0823f91674d5": {
          "model_module": "@jupyter-widgets/controls",
          "model_name": "FloatProgressModel",
          "state": {
            "_view_name": "ProgressView",
            "style": "IPY_MODEL_41aaedaa240d43df807d827ea520a2e4",
            "_dom_classes": [],
            "description": "",
            "_model_name": "FloatProgressModel",
            "bar_style": "success",
            "max": 28881,
            "_view_module": "@jupyter-widgets/controls",
            "_model_module_version": "1.5.0",
            "value": 28881,
            "_view_count": null,
            "_view_module_version": "1.5.0",
            "orientation": "horizontal",
            "min": 0,
            "description_tooltip": null,
            "_model_module": "@jupyter-widgets/controls",
            "layout": "IPY_MODEL_f96c569c62c2410fb6bb756052b3165e"
          }
        },
        "f231418d99d24861b9f817fa3a8486f8": {
          "model_module": "@jupyter-widgets/controls",
          "model_name": "HTMLModel",
          "state": {
            "_view_name": "HTMLView",
            "style": "IPY_MODEL_47fab8d61274480880ca8b7b792bcaa6",
            "_dom_classes": [],
            "description": "",
            "_model_name": "HTMLModel",
            "placeholder": "​",
            "_view_module": "@jupyter-widgets/controls",
            "_model_module_version": "1.5.0",
            "value": " 29696/? [00:00&lt;00:00, 83578.91it/s]",
            "_view_count": null,
            "_view_module_version": "1.5.0",
            "description_tooltip": null,
            "_model_module": "@jupyter-widgets/controls",
            "layout": "IPY_MODEL_9746b5c1b6a744348bf82c1458616790"
          }
        },
        "41aaedaa240d43df807d827ea520a2e4": {
          "model_module": "@jupyter-widgets/controls",
          "model_name": "ProgressStyleModel",
          "state": {
            "_view_name": "StyleView",
            "_model_name": "ProgressStyleModel",
            "description_width": "initial",
            "_view_module": "@jupyter-widgets/base",
            "_model_module_version": "1.5.0",
            "_view_count": null,
            "_view_module_version": "1.2.0",
            "bar_color": null,
            "_model_module": "@jupyter-widgets/controls"
          }
        },
        "f96c569c62c2410fb6bb756052b3165e": {
          "model_module": "@jupyter-widgets/base",
          "model_name": "LayoutModel",
          "state": {
            "_view_name": "LayoutView",
            "grid_template_rows": null,
            "right": null,
            "justify_content": null,
            "_view_module": "@jupyter-widgets/base",
            "overflow": null,
            "_model_module_version": "1.2.0",
            "_view_count": null,
            "flex_flow": null,
            "width": null,
            "min_width": null,
            "border": null,
            "align_items": null,
            "bottom": null,
            "_model_module": "@jupyter-widgets/base",
            "top": null,
            "grid_column": null,
            "overflow_y": null,
            "overflow_x": null,
            "grid_auto_flow": null,
            "grid_area": null,
            "grid_template_columns": null,
            "flex": null,
            "_model_name": "LayoutModel",
            "justify_items": null,
            "grid_row": null,
            "max_height": null,
            "align_content": null,
            "visibility": null,
            "align_self": null,
            "height": null,
            "min_height": null,
            "padding": null,
            "grid_auto_rows": null,
            "grid_gap": null,
            "max_width": null,
            "order": null,
            "_view_module_version": "1.2.0",
            "grid_template_areas": null,
            "object_position": null,
            "object_fit": null,
            "grid_auto_columns": null,
            "margin": null,
            "display": null,
            "left": null
          }
        },
        "47fab8d61274480880ca8b7b792bcaa6": {
          "model_module": "@jupyter-widgets/controls",
          "model_name": "DescriptionStyleModel",
          "state": {
            "_view_name": "StyleView",
            "_model_name": "DescriptionStyleModel",
            "description_width": "",
            "_view_module": "@jupyter-widgets/base",
            "_model_module_version": "1.5.0",
            "_view_count": null,
            "_view_module_version": "1.2.0",
            "_model_module": "@jupyter-widgets/controls"
          }
        },
        "9746b5c1b6a744348bf82c1458616790": {
          "model_module": "@jupyter-widgets/base",
          "model_name": "LayoutModel",
          "state": {
            "_view_name": "LayoutView",
            "grid_template_rows": null,
            "right": null,
            "justify_content": null,
            "_view_module": "@jupyter-widgets/base",
            "overflow": null,
            "_model_module_version": "1.2.0",
            "_view_count": null,
            "flex_flow": null,
            "width": null,
            "min_width": null,
            "border": null,
            "align_items": null,
            "bottom": null,
            "_model_module": "@jupyter-widgets/base",
            "top": null,
            "grid_column": null,
            "overflow_y": null,
            "overflow_x": null,
            "grid_auto_flow": null,
            "grid_area": null,
            "grid_template_columns": null,
            "flex": null,
            "_model_name": "LayoutModel",
            "justify_items": null,
            "grid_row": null,
            "max_height": null,
            "align_content": null,
            "visibility": null,
            "align_self": null,
            "height": null,
            "min_height": null,
            "padding": null,
            "grid_auto_rows": null,
            "grid_gap": null,
            "max_width": null,
            "order": null,
            "_view_module_version": "1.2.0",
            "grid_template_areas": null,
            "object_position": null,
            "object_fit": null,
            "grid_auto_columns": null,
            "margin": null,
            "display": null,
            "left": null
          }
        },
        "6302f076dcd644df9f00e0fdb19784ed": {
          "model_module": "@jupyter-widgets/controls",
          "model_name": "HBoxModel",
          "state": {
            "_view_name": "HBoxView",
            "_dom_classes": [],
            "_model_name": "HBoxModel",
            "_view_module": "@jupyter-widgets/controls",
            "_model_module_version": "1.5.0",
            "_view_count": null,
            "_view_module_version": "1.5.0",
            "box_style": "",
            "layout": "IPY_MODEL_b0e32bd5ba0744f9a32640ed1db7a83d",
            "_model_module": "@jupyter-widgets/controls",
            "children": [
              "IPY_MODEL_ed4f67a34bb048099c054f0cd7a68aa8",
              "IPY_MODEL_c99ae753a07d480d9dba1273d74b6163"
            ]
          }
        },
        "b0e32bd5ba0744f9a32640ed1db7a83d": {
          "model_module": "@jupyter-widgets/base",
          "model_name": "LayoutModel",
          "state": {
            "_view_name": "LayoutView",
            "grid_template_rows": null,
            "right": null,
            "justify_content": null,
            "_view_module": "@jupyter-widgets/base",
            "overflow": null,
            "_model_module_version": "1.2.0",
            "_view_count": null,
            "flex_flow": null,
            "width": null,
            "min_width": null,
            "border": null,
            "align_items": null,
            "bottom": null,
            "_model_module": "@jupyter-widgets/base",
            "top": null,
            "grid_column": null,
            "overflow_y": null,
            "overflow_x": null,
            "grid_auto_flow": null,
            "grid_area": null,
            "grid_template_columns": null,
            "flex": null,
            "_model_name": "LayoutModel",
            "justify_items": null,
            "grid_row": null,
            "max_height": null,
            "align_content": null,
            "visibility": null,
            "align_self": null,
            "height": null,
            "min_height": null,
            "padding": null,
            "grid_auto_rows": null,
            "grid_gap": null,
            "max_width": null,
            "order": null,
            "_view_module_version": "1.2.0",
            "grid_template_areas": null,
            "object_position": null,
            "object_fit": null,
            "grid_auto_columns": null,
            "margin": null,
            "display": null,
            "left": null
          }
        },
        "ed4f67a34bb048099c054f0cd7a68aa8": {
          "model_module": "@jupyter-widgets/controls",
          "model_name": "FloatProgressModel",
          "state": {
            "_view_name": "ProgressView",
            "style": "IPY_MODEL_e907dc6f55a44679a5beb4359526cb89",
            "_dom_classes": [],
            "description": "",
            "_model_name": "FloatProgressModel",
            "bar_style": "success",
            "max": 1648877,
            "_view_module": "@jupyter-widgets/controls",
            "_model_module_version": "1.5.0",
            "value": 1648877,
            "_view_count": null,
            "_view_module_version": "1.5.0",
            "orientation": "horizontal",
            "min": 0,
            "description_tooltip": null,
            "_model_module": "@jupyter-widgets/controls",
            "layout": "IPY_MODEL_9459fd01ebe54b8a82ac31b40e296c6c"
          }
        },
        "c99ae753a07d480d9dba1273d74b6163": {
          "model_module": "@jupyter-widgets/controls",
          "model_name": "HTMLModel",
          "state": {
            "_view_name": "HTMLView",
            "style": "IPY_MODEL_02ec958098334a7f940a497a94b99e60",
            "_dom_classes": [],
            "description": "",
            "_model_name": "HTMLModel",
            "placeholder": "​",
            "_view_module": "@jupyter-widgets/controls",
            "_model_module_version": "1.5.0",
            "value": " 1649664/? [00:36&lt;00:00, 45108.12it/s]",
            "_view_count": null,
            "_view_module_version": "1.5.0",
            "description_tooltip": null,
            "_model_module": "@jupyter-widgets/controls",
            "layout": "IPY_MODEL_aad57270da5d49ceb33df8d7191702eb"
          }
        },
        "e907dc6f55a44679a5beb4359526cb89": {
          "model_module": "@jupyter-widgets/controls",
          "model_name": "ProgressStyleModel",
          "state": {
            "_view_name": "StyleView",
            "_model_name": "ProgressStyleModel",
            "description_width": "initial",
            "_view_module": "@jupyter-widgets/base",
            "_model_module_version": "1.5.0",
            "_view_count": null,
            "_view_module_version": "1.2.0",
            "bar_color": null,
            "_model_module": "@jupyter-widgets/controls"
          }
        },
        "9459fd01ebe54b8a82ac31b40e296c6c": {
          "model_module": "@jupyter-widgets/base",
          "model_name": "LayoutModel",
          "state": {
            "_view_name": "LayoutView",
            "grid_template_rows": null,
            "right": null,
            "justify_content": null,
            "_view_module": "@jupyter-widgets/base",
            "overflow": null,
            "_model_module_version": "1.2.0",
            "_view_count": null,
            "flex_flow": null,
            "width": null,
            "min_width": null,
            "border": null,
            "align_items": null,
            "bottom": null,
            "_model_module": "@jupyter-widgets/base",
            "top": null,
            "grid_column": null,
            "overflow_y": null,
            "overflow_x": null,
            "grid_auto_flow": null,
            "grid_area": null,
            "grid_template_columns": null,
            "flex": null,
            "_model_name": "LayoutModel",
            "justify_items": null,
            "grid_row": null,
            "max_height": null,
            "align_content": null,
            "visibility": null,
            "align_self": null,
            "height": null,
            "min_height": null,
            "padding": null,
            "grid_auto_rows": null,
            "grid_gap": null,
            "max_width": null,
            "order": null,
            "_view_module_version": "1.2.0",
            "grid_template_areas": null,
            "object_position": null,
            "object_fit": null,
            "grid_auto_columns": null,
            "margin": null,
            "display": null,
            "left": null
          }
        },
        "02ec958098334a7f940a497a94b99e60": {
          "model_module": "@jupyter-widgets/controls",
          "model_name": "DescriptionStyleModel",
          "state": {
            "_view_name": "StyleView",
            "_model_name": "DescriptionStyleModel",
            "description_width": "",
            "_view_module": "@jupyter-widgets/base",
            "_model_module_version": "1.5.0",
            "_view_count": null,
            "_view_module_version": "1.2.0",
            "_model_module": "@jupyter-widgets/controls"
          }
        },
        "aad57270da5d49ceb33df8d7191702eb": {
          "model_module": "@jupyter-widgets/base",
          "model_name": "LayoutModel",
          "state": {
            "_view_name": "LayoutView",
            "grid_template_rows": null,
            "right": null,
            "justify_content": null,
            "_view_module": "@jupyter-widgets/base",
            "overflow": null,
            "_model_module_version": "1.2.0",
            "_view_count": null,
            "flex_flow": null,
            "width": null,
            "min_width": null,
            "border": null,
            "align_items": null,
            "bottom": null,
            "_model_module": "@jupyter-widgets/base",
            "top": null,
            "grid_column": null,
            "overflow_y": null,
            "overflow_x": null,
            "grid_auto_flow": null,
            "grid_area": null,
            "grid_template_columns": null,
            "flex": null,
            "_model_name": "LayoutModel",
            "justify_items": null,
            "grid_row": null,
            "max_height": null,
            "align_content": null,
            "visibility": null,
            "align_self": null,
            "height": null,
            "min_height": null,
            "padding": null,
            "grid_auto_rows": null,
            "grid_gap": null,
            "max_width": null,
            "order": null,
            "_view_module_version": "1.2.0",
            "grid_template_areas": null,
            "object_position": null,
            "object_fit": null,
            "grid_auto_columns": null,
            "margin": null,
            "display": null,
            "left": null
          }
        },
        "1a75ddc6a87e45c9afcb066111840dde": {
          "model_module": "@jupyter-widgets/controls",
          "model_name": "HBoxModel",
          "state": {
            "_view_name": "HBoxView",
            "_dom_classes": [],
            "_model_name": "HBoxModel",
            "_view_module": "@jupyter-widgets/controls",
            "_model_module_version": "1.5.0",
            "_view_count": null,
            "_view_module_version": "1.5.0",
            "box_style": "",
            "layout": "IPY_MODEL_00c0bd5e88d44d3a8e9bd0052b268d4d",
            "_model_module": "@jupyter-widgets/controls",
            "children": [
              "IPY_MODEL_a9efd398cecf4b8aa397262ba37f413e",
              "IPY_MODEL_23b5343b7b9c47599510a8ea75c66076"
            ]
          }
        },
        "00c0bd5e88d44d3a8e9bd0052b268d4d": {
          "model_module": "@jupyter-widgets/base",
          "model_name": "LayoutModel",
          "state": {
            "_view_name": "LayoutView",
            "grid_template_rows": null,
            "right": null,
            "justify_content": null,
            "_view_module": "@jupyter-widgets/base",
            "overflow": null,
            "_model_module_version": "1.2.0",
            "_view_count": null,
            "flex_flow": null,
            "width": null,
            "min_width": null,
            "border": null,
            "align_items": null,
            "bottom": null,
            "_model_module": "@jupyter-widgets/base",
            "top": null,
            "grid_column": null,
            "overflow_y": null,
            "overflow_x": null,
            "grid_auto_flow": null,
            "grid_area": null,
            "grid_template_columns": null,
            "flex": null,
            "_model_name": "LayoutModel",
            "justify_items": null,
            "grid_row": null,
            "max_height": null,
            "align_content": null,
            "visibility": null,
            "align_self": null,
            "height": null,
            "min_height": null,
            "padding": null,
            "grid_auto_rows": null,
            "grid_gap": null,
            "max_width": null,
            "order": null,
            "_view_module_version": "1.2.0",
            "grid_template_areas": null,
            "object_position": null,
            "object_fit": null,
            "grid_auto_columns": null,
            "margin": null,
            "display": null,
            "left": null
          }
        },
        "a9efd398cecf4b8aa397262ba37f413e": {
          "model_module": "@jupyter-widgets/controls",
          "model_name": "FloatProgressModel",
          "state": {
            "_view_name": "ProgressView",
            "style": "IPY_MODEL_8ee8358a647e40bf8dc9fd662328c7e8",
            "_dom_classes": [],
            "description": "",
            "_model_name": "FloatProgressModel",
            "bar_style": "success",
            "max": 4542,
            "_view_module": "@jupyter-widgets/controls",
            "_model_module_version": "1.5.0",
            "value": 4542,
            "_view_count": null,
            "_view_module_version": "1.5.0",
            "orientation": "horizontal",
            "min": 0,
            "description_tooltip": null,
            "_model_module": "@jupyter-widgets/controls",
            "layout": "IPY_MODEL_112f919c8a024a69b31dd1806ff1bcba"
          }
        },
        "23b5343b7b9c47599510a8ea75c66076": {
          "model_module": "@jupyter-widgets/controls",
          "model_name": "HTMLModel",
          "state": {
            "_view_name": "HTMLView",
            "style": "IPY_MODEL_564d75da2d7b4e339518fdb02da0568d",
            "_dom_classes": [],
            "description": "",
            "_model_name": "HTMLModel",
            "placeholder": "​",
            "_view_module": "@jupyter-widgets/controls",
            "_model_module_version": "1.5.0",
            "value": " 5120/? [00:00&lt;00:00, 30281.09it/s]",
            "_view_count": null,
            "_view_module_version": "1.5.0",
            "description_tooltip": null,
            "_model_module": "@jupyter-widgets/controls",
            "layout": "IPY_MODEL_4eb9d1a29e954e5cbc4f49b49760e165"
          }
        },
        "8ee8358a647e40bf8dc9fd662328c7e8": {
          "model_module": "@jupyter-widgets/controls",
          "model_name": "ProgressStyleModel",
          "state": {
            "_view_name": "StyleView",
            "_model_name": "ProgressStyleModel",
            "description_width": "initial",
            "_view_module": "@jupyter-widgets/base",
            "_model_module_version": "1.5.0",
            "_view_count": null,
            "_view_module_version": "1.2.0",
            "bar_color": null,
            "_model_module": "@jupyter-widgets/controls"
          }
        },
        "112f919c8a024a69b31dd1806ff1bcba": {
          "model_module": "@jupyter-widgets/base",
          "model_name": "LayoutModel",
          "state": {
            "_view_name": "LayoutView",
            "grid_template_rows": null,
            "right": null,
            "justify_content": null,
            "_view_module": "@jupyter-widgets/base",
            "overflow": null,
            "_model_module_version": "1.2.0",
            "_view_count": null,
            "flex_flow": null,
            "width": null,
            "min_width": null,
            "border": null,
            "align_items": null,
            "bottom": null,
            "_model_module": "@jupyter-widgets/base",
            "top": null,
            "grid_column": null,
            "overflow_y": null,
            "overflow_x": null,
            "grid_auto_flow": null,
            "grid_area": null,
            "grid_template_columns": null,
            "flex": null,
            "_model_name": "LayoutModel",
            "justify_items": null,
            "grid_row": null,
            "max_height": null,
            "align_content": null,
            "visibility": null,
            "align_self": null,
            "height": null,
            "min_height": null,
            "padding": null,
            "grid_auto_rows": null,
            "grid_gap": null,
            "max_width": null,
            "order": null,
            "_view_module_version": "1.2.0",
            "grid_template_areas": null,
            "object_position": null,
            "object_fit": null,
            "grid_auto_columns": null,
            "margin": null,
            "display": null,
            "left": null
          }
        },
        "564d75da2d7b4e339518fdb02da0568d": {
          "model_module": "@jupyter-widgets/controls",
          "model_name": "DescriptionStyleModel",
          "state": {
            "_view_name": "StyleView",
            "_model_name": "DescriptionStyleModel",
            "description_width": "",
            "_view_module": "@jupyter-widgets/base",
            "_model_module_version": "1.5.0",
            "_view_count": null,
            "_view_module_version": "1.2.0",
            "_model_module": "@jupyter-widgets/controls"
          }
        },
        "4eb9d1a29e954e5cbc4f49b49760e165": {
          "model_module": "@jupyter-widgets/base",
          "model_name": "LayoutModel",
          "state": {
            "_view_name": "LayoutView",
            "grid_template_rows": null,
            "right": null,
            "justify_content": null,
            "_view_module": "@jupyter-widgets/base",
            "overflow": null,
            "_model_module_version": "1.2.0",
            "_view_count": null,
            "flex_flow": null,
            "width": null,
            "min_width": null,
            "border": null,
            "align_items": null,
            "bottom": null,
            "_model_module": "@jupyter-widgets/base",
            "top": null,
            "grid_column": null,
            "overflow_y": null,
            "overflow_x": null,
            "grid_auto_flow": null,
            "grid_area": null,
            "grid_template_columns": null,
            "flex": null,
            "_model_name": "LayoutModel",
            "justify_items": null,
            "grid_row": null,
            "max_height": null,
            "align_content": null,
            "visibility": null,
            "align_self": null,
            "height": null,
            "min_height": null,
            "padding": null,
            "grid_auto_rows": null,
            "grid_gap": null,
            "max_width": null,
            "order": null,
            "_view_module_version": "1.2.0",
            "grid_template_areas": null,
            "object_position": null,
            "object_fit": null,
            "grid_auto_columns": null,
            "margin": null,
            "display": null,
            "left": null
          }
        }
      }
    }
  },
  "cells": [
    {
      "cell_type": "markdown",
      "metadata": {
        "id": "8PysRfCI1eQy"
      },
      "source": [
        "In this notebook we will be doing the following tasks:\n",
        "1.   Define a small convolutional neural network and train in on MNIST digit dataset (as a classification task).\n",
        "2.   Take the trained network, freeze all of its weights and learn the image which gives the output of a particular digit. (This will be defined better, when we reach that task).\n",
        "3.   (Bonus) Try the same on a different dataset (like MNIST fashion dataset).\n",
        "4.   (Bonus) Try to formulate the MNIST classification problem as a regression problem instead. (i.e. Have 1 output unit which outputs a floating point value and you round it off to obtain the digit.)\n",
        "\n",
        "\n",
        "\n",
        "\n",
        "\n",
        "\n",
        "\n",
        "\n"
      ]
    },
    {
      "cell_type": "code",
      "metadata": {
        "id": "aNntDX8oAsDZ"
      },
      "source": [
        "\n",
        "import torch \n",
        "import torchvision\n",
        "import torch.nn as nn\n",
        "import torch.nn.functional as F\n",
        "import torch.utils.data\n",
        "from torch.autograd import Variable\n",
        "from torch.nn import Linear, ReLU, CrossEntropyLoss, Sequential, Conv2d, MaxPool2d, Softmax\n",
        "\n",
        "\n",
        "import numpy as np\n",
        "\n",
        "from matplotlib import pyplot as plt\n",
        "\n",
        "#This to ensure that the default device for processing PyTorch tensors is GPU instead of a CPU.\n",
        "device = 'cuda' #Change this to 'cpu' to run on cpu. "
      ],
      "execution_count": 1,
      "outputs": []
    },
    {
      "cell_type": "markdown",
      "metadata": {
        "id": "nfynPVQmAZL9"
      },
      "source": [
        "Here we will download the MNIST digit dataset and convert it into PyTorch dataset object. \n",
        "\n",
        "torchvision module of PyTorch provides several Computer Vision specific functionalities one of which is easy importing of several [popular datasets](https://pytorch.org/docs/stable/torchvision/datasets.html). "
      ]
    },
    {
      "cell_type": "code",
      "metadata": {
        "colab": {
          "base_uri": "https://localhost:8080/",
          "height": 1000,
          "referenced_widgets": [
            "f84825c7982e4ae48d7f05591d424e21",
            "5f9ff1339309452bb1cfc6ba0c67687c",
            "1ebfbd5766e84f8984a3f325d9ce4f68",
            "3d298b3504b94b19855692fefe353ca9",
            "363a65bd98144ff3a5aee52518b78ca8",
            "362d34d44fb04908b6c30713b48522df",
            "5136e1b5027f4231abc737a34e3fbb35",
            "b51037d3a05f4734b2d0377cf4764ef5",
            "8c58ebe1d493409da10dd8ae5a83ffa4",
            "602ffd84345e43f9848740aa4fe15b18",
            "df58c4f293b140e394ca0823f91674d5",
            "f231418d99d24861b9f817fa3a8486f8",
            "41aaedaa240d43df807d827ea520a2e4",
            "f96c569c62c2410fb6bb756052b3165e",
            "47fab8d61274480880ca8b7b792bcaa6",
            "9746b5c1b6a744348bf82c1458616790",
            "6302f076dcd644df9f00e0fdb19784ed",
            "b0e32bd5ba0744f9a32640ed1db7a83d",
            "ed4f67a34bb048099c054f0cd7a68aa8",
            "c99ae753a07d480d9dba1273d74b6163",
            "e907dc6f55a44679a5beb4359526cb89",
            "9459fd01ebe54b8a82ac31b40e296c6c",
            "02ec958098334a7f940a497a94b99e60",
            "aad57270da5d49ceb33df8d7191702eb",
            "1a75ddc6a87e45c9afcb066111840dde",
            "00c0bd5e88d44d3a8e9bd0052b268d4d",
            "a9efd398cecf4b8aa397262ba37f413e",
            "23b5343b7b9c47599510a8ea75c66076",
            "8ee8358a647e40bf8dc9fd662328c7e8",
            "112f919c8a024a69b31dd1806ff1bcba",
            "564d75da2d7b4e339518fdb02da0568d",
            "4eb9d1a29e954e5cbc4f49b49760e165"
          ]
        },
        "id": "kPT0_Ob9BDUG",
        "outputId": "3c31e6ea-2754-4279-95fe-48c680e1855d"
      },
      "source": [
        "#We will load the MNIST dataset here.\n",
        "\n",
        "#This creates a transform object which will be passed to the later functions. It converts the training image from PIL Image objects to PyTorch image objects.\n",
        "transform = torchvision.transforms.Compose([torchvision.transforms.ToTensor()])\n",
        "\n",
        "train_data = torchvision.datasets.MNIST(root = './data', train = True, download = True, transform = transform )\n",
        "\n",
        "test_data = torchvision.datasets.MNIST(root = './data',train = False ,download = True,  transform = transform)\n",
        "\n",
        " \n",
        "\n",
        "print(train_data)\n",
        "print(test_data)\n",
        "\n",
        "plt.imshow(np.asarray(train_data[1][0].reshape(28,28)))\n",
        "\n"
      ],
      "execution_count": 2,
      "outputs": [
        {
          "output_type": "stream",
          "text": [
            "Downloading http://yann.lecun.com/exdb/mnist/train-images-idx3-ubyte.gz\n",
            "Downloading http://yann.lecun.com/exdb/mnist/train-images-idx3-ubyte.gz to ./data/MNIST/raw/train-images-idx3-ubyte.gz\n"
          ],
          "name": "stdout"
        },
        {
          "output_type": "display_data",
          "data": {
            "application/vnd.jupyter.widget-view+json": {
              "model_id": "f84825c7982e4ae48d7f05591d424e21",
              "version_minor": 0,
              "version_major": 2
            },
            "text/plain": [
              "HBox(children=(FloatProgress(value=0.0, max=9912422.0), HTML(value='')))"
            ]
          },
          "metadata": {
            "tags": []
          }
        },
        {
          "output_type": "stream",
          "text": [
            "\n",
            "Extracting ./data/MNIST/raw/train-images-idx3-ubyte.gz to ./data/MNIST/raw\n",
            "\n",
            "Downloading http://yann.lecun.com/exdb/mnist/train-labels-idx1-ubyte.gz\n",
            "Downloading http://yann.lecun.com/exdb/mnist/train-labels-idx1-ubyte.gz to ./data/MNIST/raw/train-labels-idx1-ubyte.gz\n"
          ],
          "name": "stdout"
        },
        {
          "output_type": "display_data",
          "data": {
            "application/vnd.jupyter.widget-view+json": {
              "model_id": "8c58ebe1d493409da10dd8ae5a83ffa4",
              "version_minor": 0,
              "version_major": 2
            },
            "text/plain": [
              "HBox(children=(FloatProgress(value=0.0, max=28881.0), HTML(value='')))"
            ]
          },
          "metadata": {
            "tags": []
          }
        },
        {
          "output_type": "stream",
          "text": [
            "\n",
            "Extracting ./data/MNIST/raw/train-labels-idx1-ubyte.gz to ./data/MNIST/raw\n",
            "\n",
            "Downloading http://yann.lecun.com/exdb/mnist/t10k-images-idx3-ubyte.gz\n",
            "Downloading http://yann.lecun.com/exdb/mnist/t10k-images-idx3-ubyte.gz to ./data/MNIST/raw/t10k-images-idx3-ubyte.gz\n"
          ],
          "name": "stdout"
        },
        {
          "output_type": "display_data",
          "data": {
            "application/vnd.jupyter.widget-view+json": {
              "model_id": "6302f076dcd644df9f00e0fdb19784ed",
              "version_minor": 0,
              "version_major": 2
            },
            "text/plain": [
              "HBox(children=(FloatProgress(value=0.0, max=1648877.0), HTML(value='')))"
            ]
          },
          "metadata": {
            "tags": []
          }
        },
        {
          "output_type": "stream",
          "text": [
            "\n",
            "Extracting ./data/MNIST/raw/t10k-images-idx3-ubyte.gz to ./data/MNIST/raw\n",
            "\n",
            "Downloading http://yann.lecun.com/exdb/mnist/t10k-labels-idx1-ubyte.gz\n",
            "Downloading http://yann.lecun.com/exdb/mnist/t10k-labels-idx1-ubyte.gz to ./data/MNIST/raw/t10k-labels-idx1-ubyte.gz\n"
          ],
          "name": "stdout"
        },
        {
          "output_type": "display_data",
          "data": {
            "application/vnd.jupyter.widget-view+json": {
              "model_id": "1a75ddc6a87e45c9afcb066111840dde",
              "version_minor": 0,
              "version_major": 2
            },
            "text/plain": [
              "HBox(children=(FloatProgress(value=0.0, max=4542.0), HTML(value='')))"
            ]
          },
          "metadata": {
            "tags": []
          }
        },
        {
          "output_type": "stream",
          "text": [
            "\n",
            "Extracting ./data/MNIST/raw/t10k-labels-idx1-ubyte.gz to ./data/MNIST/raw\n",
            "\n",
            "Dataset MNIST\n",
            "    Number of datapoints: 60000\n",
            "    Root location: ./data\n",
            "    Split: Train\n",
            "    StandardTransform\n",
            "Transform: Compose(\n",
            "               ToTensor()\n",
            "           )\n",
            "Dataset MNIST\n",
            "    Number of datapoints: 10000\n",
            "    Root location: ./data\n",
            "    Split: Test\n",
            "    StandardTransform\n",
            "Transform: Compose(\n",
            "               ToTensor()\n",
            "           )\n"
          ],
          "name": "stdout"
        },
        {
          "output_type": "stream",
          "text": [
            "/usr/local/lib/python3.7/dist-packages/torchvision/datasets/mnist.py:498: UserWarning: The given NumPy array is not writeable, and PyTorch does not support non-writeable tensors. This means you can write to the underlying (supposedly non-writeable) NumPy array using the tensor. You may want to copy the array to protect its data or make it writeable before converting it to a tensor. This type of warning will be suppressed for the rest of this program. (Triggered internally at  /pytorch/torch/csrc/utils/tensor_numpy.cpp:180.)\n",
            "  return torch.from_numpy(parsed.astype(m[2], copy=False)).view(*s)\n"
          ],
          "name": "stderr"
        },
        {
          "output_type": "execute_result",
          "data": {
            "text/plain": [
              "<matplotlib.image.AxesImage at 0x7f5398f6c3d0>"
            ]
          },
          "metadata": {
            "tags": []
          },
          "execution_count": 2
        },
        {
          "output_type": "display_data",
          "data": {
            "image/png": "[encoded data removed]",
            "text/plain": [
              "<Figure size 432x288 with 1 Axes>"
            ]
          },
          "metadata": {
            "tags": [],
            "needs_background": "light"
          }
        }
      ]
    },
    {
      "cell_type": "markdown",
      "metadata": {
        "id": "NpqZ4LD-F0SH"
      },
      "source": [
        "The following cell converts the DataSet objects to DataLoader objects. \n",
        "DataLoader objects in PyTorch provide several useful functionalities, such as automatic batching, parallel data processing on the CPU, etc. Therefore it is generally advisable to use dataloader instead of manually handling data. \n",
        "\n",
        "Read more about PyTorch DataSet and DataLoader [here](https://pytorch.org/docs/stable/data.html#torch.utils.data.DataLoader)"
      ]
    },
    {
      "cell_type": "code",
      "metadata": {
        "colab": {
          "base_uri": "https://localhost:8080/"
        },
        "id": "xRmiRtSDB_QV",
        "outputId": "e2e28f89-6366-4452-c5ac-6866723584e2"
      },
      "source": [
        "#BATCHs are only used for training, while testing we conventionally use a batch size of 1.  \n",
        "BATCH_SIZE = 8\n",
        "train_loader = torch.utils.data.DataLoader (train_data, batch_size = BATCH_SIZE )\n",
        "test_loader = torch.utils.data.DataLoader (test_data, batch_size = 1 )\n",
        "\n",
        "\n",
        "\n",
        "\n",
        "print(train_loader)"
      ],
      "execution_count": 3,
      "outputs": [
        {
          "output_type": "stream",
          "text": [
            "<torch.utils.data.dataloader.DataLoader object at 0x7f5398ea3690>\n"
          ],
          "name": "stdout"
        }
      ]
    },
    {
      "cell_type": "markdown",
      "metadata": {
        "id": "pMeoiIqrd-v7"
      },
      "source": [
        "We will define our network in the following cell. There are several ways of doing this in PyTorch, but in this example we will do it by subclassing nn.module. You should be able to do this after reading the tutorials given at the top of the page. [This](https://pytorch.org/tutorials/beginner/blitz/cifar10_tutorial.html) is extra reading to help you out. (Do remember that we are dealing with 1 channel B/W images not 3 channels colour images.)\n",
        "\n",
        "[Here](https://pytorch.org/docs/stable/nn.html) are official docs of nn module to help you out. \n",
        "\n",
        "Our network will have 4 convolutional layers followed by 2 fully-connected layers. (You free to change make slight changes to this but don't make the network too deep in the final submission). \n",
        "\n",
        "Don't forget to have ReLU activations and maxpooling layers.\n",
        "\n"
      ]
    },
    {
      "cell_type": "code",
      "metadata": {
        "id": "JHW6Cku-CJSM"
      },
      "source": [
        "class MyConvNet(nn.Module):\n",
        "  def __init__(self):   \n",
        "    super(MyConvNet, self).__init__()\n",
        "    self.cnn_layers = Sequential(\n",
        "            Conv2d(1,32 , kernel_size=3, stride=1,padding=1),\n",
        "            ReLU(),\n",
        "            MaxPool2d(kernel_size=2, stride=2),\n",
        "            Conv2d(32,64, kernel_size=3, stride=1,padding=1),\n",
        "            ReLU(),\n",
        "            MaxPool2d(kernel_size=2, stride=2),\n",
        "            Conv2d(64,128, kernel_size=3, stride=1,padding=1),\n",
        "            ReLU(),\n",
        "            MaxPool2d(kernel_size=2, stride=2),\n",
        "            Conv2d(128,256, kernel_size=3, stride=1,padding=1),\n",
        "            ReLU(),\n",
        "            MaxPool2d(kernel_size=2, stride=2),\n",
        "            \n",
        "          \n",
        "        )\n",
        "      \n",
        "    self.dense_layers = Sequential(\n",
        "                                     Linear(256,10))\n",
        "  \n",
        "  def forward (self, x):\n",
        "    x = self.cnn_layers(x)\n",
        "    x = x.view(x.size(0), -1)\n",
        "    x = self.dense_layers(x)\n",
        "    return F.softmax(x, dim = 1) \n"
      ],
      "execution_count": 4,
      "outputs": []
    },
    {
      "cell_type": "markdown",
      "metadata": {
        "id": "05mzNPxSPIXu"
      },
      "source": [
        "The following cell will instantiate the the network we defined above.\n",
        "Check the size of the output tensor (it should be [BATCH_SIZE, 10]) and see if the values in the output tensor printed below are numbers between 0 and 1. (Infact most values should be close to 0.1. Why?)"
      ]
    },
    {
      "cell_type": "code",
      "metadata": {
        "colab": {
          "base_uri": "https://localhost:8080/"
        },
        "id": "8ia3HNIN3B2x",
        "outputId": "2461d689-77e1-4234-d13e-00e5e1368f57"
      },
      "source": [
        "#Setting few things up.\n",
        "\n",
        "net = MyConvNet()\n",
        "net.to(device)\n",
        "print(net)\n",
        "tld = iter(train_loader)\n",
        "im = next(tld)[0].to(device)\n",
        "print ('Size of the output tensor:' ,net.forward(im).size())\n",
        "print (net.forward(im))\n"
      ],
      "execution_count": 5,
      "outputs": [
        {
          "output_type": "stream",
          "text": [
            "MyConvNet(\n",
            "  (cnn_layers): Sequential(\n",
            "    (0): Conv2d(1, 32, kernel_size=(3, 3), stride=(1, 1), padding=(1, 1))\n",
            "    (1): ReLU()\n",
            "    (2): MaxPool2d(kernel_size=2, stride=2, padding=0, dilation=1, ceil_mode=False)\n",
            "    (3): Conv2d(32, 64, kernel_size=(3, 3), stride=(1, 1), padding=(1, 1))\n",
            "    (4): ReLU()\n",
            "    (5): MaxPool2d(kernel_size=2, stride=2, padding=0, dilation=1, ceil_mode=False)\n",
            "    (6): Conv2d(64, 128, kernel_size=(3, 3), stride=(1, 1), padding=(1, 1))\n",
            "    (7): ReLU()\n",
            "    (8): MaxPool2d(kernel_size=2, stride=2, padding=0, dilation=1, ceil_mode=False)\n",
            "    (9): Conv2d(128, 256, kernel_size=(3, 3), stride=(1, 1), padding=(1, 1))\n",
            "    (10): ReLU()\n",
            "    (11): MaxPool2d(kernel_size=2, stride=2, padding=0, dilation=1, ceil_mode=False)\n",
            "  )\n",
            "  (dense_layers): Sequential(\n",
            "    (0): Linear(in_features=256, out_features=10, bias=True)\n",
            "  )\n",
            ")\n",
            "Size of the output tensor: torch.Size([8, 10])\n",
            "tensor([[0.1021, 0.1036, 0.1023, 0.0990, 0.0955, 0.1009, 0.0960, 0.0943, 0.1050,\n",
            "         0.1014],\n",
            "        [0.1022, 0.1036, 0.1022, 0.0985, 0.0964, 0.1016, 0.0957, 0.0947, 0.1046,\n",
            "         0.1005],\n",
            "        [0.1025, 0.1035, 0.1016, 0.0991, 0.0958, 0.1014, 0.0952, 0.0949, 0.1047,\n",
            "         0.1012],\n",
            "        [0.1025, 0.1036, 0.1015, 0.0990, 0.0959, 0.1021, 0.0950, 0.0947, 0.1047,\n",
            "         0.1010],\n",
            "        [0.1030, 0.1034, 0.1025, 0.0985, 0.0959, 0.1013, 0.0958, 0.0946, 0.1045,\n",
            "         0.1003],\n",
            "        [0.1021, 0.1036, 0.1022, 0.0991, 0.0959, 0.1016, 0.0961, 0.0945, 0.1041,\n",
            "         0.1008],\n",
            "        [0.1031, 0.1026, 0.1021, 0.0995, 0.0954, 0.1011, 0.0954, 0.0946, 0.1047,\n",
            "         0.1014],\n",
            "        [0.1021, 0.1032, 0.1023, 0.0986, 0.0958, 0.1013, 0.0959, 0.0948, 0.1048,\n",
            "         0.1012]], device='cuda:0', grad_fn=<SoftmaxBackward>)\n"
          ],
          "name": "stdout"
        },
        {
          "output_type": "stream",
          "text": [
            "/usr/local/lib/python3.7/dist-packages/torch/nn/functional.py:718: UserWarning: Named tensors and all their associated APIs are an experimental feature and subject to change. Please do not use them for anything important until they are released as stable. (Triggered internally at  /pytorch/c10/core/TensorImpl.h:1156.)\n",
            "  return torch.max_pool2d(input, kernel_size, stride, padding, dilation, ceil_mode)\n"
          ],
          "name": "stderr"
        }
      ]
    },
    {
      "cell_type": "markdown",
      "metadata": {
        "id": "8xIdHy0wRMX1"
      },
      "source": [
        "The following cell will define the training and the testing loop. \n",
        "\n",
        "\n",
        "\n"
      ]
    },
    {
      "cell_type": "code",
      "metadata": {
        "id": "XYgE1F24lXn7"
      },
      "source": [
        "def train(model, train_loader, EPOCHS = 6, lossF = None):\n",
        "  \n",
        "  if lossF == None:\n",
        "    lossF = nn.CrossEntropyLoss() #Cross entropy loss is popularly used for classification tasks. \n",
        "  \n",
        "  ## Adam is a very popular choice of optimization algorithms. \n",
        "  ## It is not very sensitive to hyperparameters and therefore it becomes a natural choice in quick experiments.\n",
        "  optim = torch.optim.Adam (model.parameters(), lr = 4e-4, weight_decay=1e-3) \n",
        "  \n",
        "  model.train() #Changes the model to train mode. All the require_grad are set to true.\n",
        "  \n",
        "  for epoch in range(EPOCHS):\n",
        "    correct = 0\n",
        "    for batch_idx, (X_batch, y_batch) in enumerate(train_loader):\n",
        "      \n",
        "      #Move data to device\n",
        "      var_X_batch = Variable(X_batch).to(device) \n",
        "      var_y_batch = Variable(y_batch).to(device)\n",
        "      # print(var_X_batch.size())\n",
        "      \n",
        "      ## Forward Pass!\n",
        "      output = model(var_X_batch)\n",
        "\n",
        "      # print(output)\n",
        "      # print(output.size(), var_y_batch.size())\n",
        "      \n",
        "      ## Calculate the loss incurred\n",
        "      loss = lossF (output, var_y_batch)\n",
        "      \n",
        "      ## BackProp: Computes all gradients.\n",
        "      loss.backward()\n",
        "      \n",
        "      ## Gradient Descent Step (Adam)\n",
        "      optim.step()\n",
        "      optim.zero_grad() # This is important because PyTorch keeps on adding to the original value of gradient.\n",
        "\n",
        "      ## Gets the predictions. From probablities (the digit with highest probablity is the prediction) \n",
        "      predicted = torch.max(output.data, axis = 1).indices\n",
        "      \n",
        "      # print(predicted)\n",
        "\n",
        "      ## Calculates the number of correct predictions in a batch\n",
        "      correct += (predicted == var_y_batch).sum()\n",
        "\n",
        "      if (batch_idx % 200) == 0:\n",
        "          print('Epoch : {} [{}/{} ({:.0f}%)]\\tLoss: {:.6f}\\t Accuracy:{:.3f}%'.format(\n",
        "                    epoch, batch_idx*len(X_batch), len(train_loader.dataset), 100.*batch_idx / len(train_loader), loss.item(), float(correct*100) / float(BATCH_SIZE*(batch_idx+1))))\n",
        "\n",
        "\n",
        "\n",
        "def test(model, test_loader):\n",
        "    \n",
        "    correct = 0 \n",
        "    for batch_idx, (X_batch, y_batch) in enumerate(test_loader):\n",
        "      var_X_batch = Variable(X_batch).to(device) \n",
        "      var_y_batch = Variable(y_batch).to(device)\n",
        "      output = model(var_X_batch)\n",
        "      predicted = torch.max(output.data, axis = 1).indices\n",
        "      correct += (predicted == var_y_batch).sum()\n",
        "      \n",
        "    print(\"Test accuracy:{:.3f}% \".format( float(correct * 100) / (len(test_loader))))\n",
        "\n"
      ],
      "execution_count": 6,
      "outputs": []
    },
    {
      "cell_type": "markdown",
      "metadata": {
        "id": "KIP2LRsXUBfu"
      },
      "source": [
        "Training the Network\n",
        " "
      ]
    },
    {
      "cell_type": "code",
      "metadata": {
        "colab": {
          "base_uri": "https://localhost:8080/"
        },
        "id": "snnWa2Cx46lt",
        "outputId": "02d00429-fc28-4da6-ba01-f776c0dca6c4"
      },
      "source": [
        "train (net, train_loader, EPOCHS = 20)"
      ],
      "execution_count": 7,
      "outputs": [
        {
          "output_type": "stream",
          "text": [
            "Epoch : 0 [0/60000 (0%)]\tLoss: 2.301817\t Accuracy:0.000%\n",
            "Epoch : 0 [1600/60000 (3%)]\tLoss: 1.807690\t Accuracy:35.137%\n",
            "Epoch : 0 [3200/60000 (5%)]\tLoss: 1.915731\t Accuracy:49.875%\n",
            "Epoch : 0 [4800/60000 (8%)]\tLoss: 1.704991\t Accuracy:57.072%\n",
            "Epoch : 0 [6400/60000 (11%)]\tLoss: 1.494579\t Accuracy:63.702%\n",
            "Epoch : 0 [8000/60000 (13%)]\tLoss: 1.461441\t Accuracy:68.569%\n",
            "Epoch : 0 [9600/60000 (16%)]\tLoss: 1.595611\t Accuracy:72.044%\n",
            "Epoch : 0 [11200/60000 (19%)]\tLoss: 1.497170\t Accuracy:75.178%\n",
            "Epoch : 0 [12800/60000 (21%)]\tLoss: 1.481507\t Accuracy:77.444%\n",
            "Epoch : 0 [14400/60000 (24%)]\tLoss: 1.490028\t Accuracy:79.157%\n",
            "Epoch : 0 [16000/60000 (27%)]\tLoss: 1.466298\t Accuracy:80.535%\n",
            "Epoch : 0 [17600/60000 (29%)]\tLoss: 1.582197\t Accuracy:81.798%\n",
            "Epoch : 0 [19200/60000 (32%)]\tLoss: 1.462526\t Accuracy:82.861%\n",
            "Epoch : 0 [20800/60000 (35%)]\tLoss: 1.461276\t Accuracy:83.727%\n",
            "Epoch : 0 [22400/60000 (37%)]\tLoss: 1.584705\t Accuracy:84.577%\n",
            "Epoch : 0 [24000/60000 (40%)]\tLoss: 1.477281\t Accuracy:85.297%\n",
            "Epoch : 0 [25600/60000 (43%)]\tLoss: 1.461583\t Accuracy:85.918%\n",
            "Epoch : 0 [27200/60000 (45%)]\tLoss: 1.463117\t Accuracy:86.357%\n",
            "Epoch : 0 [28800/60000 (48%)]\tLoss: 1.536463\t Accuracy:86.837%\n",
            "Epoch : 0 [30400/60000 (51%)]\tLoss: 1.461207\t Accuracy:87.290%\n",
            "Epoch : 0 [32000/60000 (53%)]\tLoss: 1.528000\t Accuracy:87.681%\n",
            "Epoch : 0 [33600/60000 (56%)]\tLoss: 1.461259\t Accuracy:88.068%\n",
            "Epoch : 0 [35200/60000 (59%)]\tLoss: 1.520916\t Accuracy:88.443%\n",
            "Epoch : 0 [36800/60000 (61%)]\tLoss: 1.462194\t Accuracy:88.790%\n",
            "Epoch : 0 [38400/60000 (64%)]\tLoss: 1.461156\t Accuracy:89.067%\n",
            "Epoch : 0 [40000/60000 (67%)]\tLoss: 1.461370\t Accuracy:89.310%\n",
            "Epoch : 0 [41600/60000 (69%)]\tLoss: 1.586585\t Accuracy:89.596%\n",
            "Epoch : 0 [43200/60000 (72%)]\tLoss: 1.501224\t Accuracy:89.800%\n",
            "Epoch : 0 [44800/60000 (75%)]\tLoss: 1.462220\t Accuracy:90.035%\n",
            "Epoch : 0 [46400/60000 (77%)]\tLoss: 1.477975\t Accuracy:90.194%\n",
            "Epoch : 0 [48000/60000 (80%)]\tLoss: 1.462042\t Accuracy:90.389%\n",
            "Epoch : 0 [49600/60000 (83%)]\tLoss: 1.491374\t Accuracy:90.564%\n",
            "Epoch : 0 [51200/60000 (85%)]\tLoss: 1.466003\t Accuracy:90.740%\n",
            "Epoch : 0 [52800/60000 (88%)]\tLoss: 1.587235\t Accuracy:90.924%\n",
            "Epoch : 0 [54400/60000 (91%)]\tLoss: 1.464180\t Accuracy:91.079%\n",
            "Epoch : 0 [56000/60000 (93%)]\tLoss: 1.541802\t Accuracy:91.258%\n",
            "Epoch : 0 [57600/60000 (96%)]\tLoss: 1.479815\t Accuracy:91.414%\n",
            "Epoch : 0 [59200/60000 (99%)]\tLoss: 1.464764\t Accuracy:91.594%\n",
            "Epoch : 1 [0/60000 (0%)]\tLoss: 1.498340\t Accuracy:100.000%\n",
            "Epoch : 1 [1600/60000 (3%)]\tLoss: 1.588050\t Accuracy:95.522%\n",
            "Epoch : 1 [3200/60000 (5%)]\tLoss: 1.497607\t Accuracy:96.322%\n",
            "Epoch : 1 [4800/60000 (8%)]\tLoss: 1.520345\t Accuracy:96.547%\n",
            "Epoch : 1 [6400/60000 (11%)]\tLoss: 1.461522\t Accuracy:96.660%\n",
            "Epoch : 1 [8000/60000 (13%)]\tLoss: 1.461175\t Accuracy:96.479%\n",
            "Epoch : 1 [9600/60000 (16%)]\tLoss: 1.540300\t Accuracy:96.347%\n",
            "Epoch : 1 [11200/60000 (19%)]\tLoss: 1.473405\t Accuracy:96.494%\n",
            "Epoch : 1 [12800/60000 (21%)]\tLoss: 1.464345\t Accuracy:96.557%\n",
            "Epoch : 1 [14400/60000 (24%)]\tLoss: 1.586654\t Accuracy:96.544%\n",
            "Epoch : 1 [16000/60000 (27%)]\tLoss: 1.461346\t Accuracy:96.533%\n",
            "Epoch : 1 [17600/60000 (29%)]\tLoss: 1.485320\t Accuracy:96.541%\n",
            "Epoch : 1 [19200/60000 (32%)]\tLoss: 1.461416\t Accuracy:96.600%\n",
            "Epoch : 1 [20800/60000 (35%)]\tLoss: 1.461280\t Accuracy:96.564%\n",
            "Epoch : 1 [22400/60000 (37%)]\tLoss: 1.579931\t Accuracy:96.626%\n",
            "Epoch : 1 [24000/60000 (40%)]\tLoss: 1.461760\t Accuracy:96.676%\n",
            "Epoch : 1 [25600/60000 (43%)]\tLoss: 1.461397\t Accuracy:96.716%\n",
            "Epoch : 1 [27200/60000 (45%)]\tLoss: 1.483457\t Accuracy:96.700%\n",
            "Epoch : 1 [28800/60000 (48%)]\tLoss: 1.503496\t Accuracy:96.692%\n",
            "Epoch : 1 [30400/60000 (51%)]\tLoss: 1.461162\t Accuracy:96.705%\n",
            "Epoch : 1 [32000/60000 (53%)]\tLoss: 1.501384\t Accuracy:96.707%\n",
            "Epoch : 1 [33600/60000 (56%)]\tLoss: 1.492661\t Accuracy:96.703%\n",
            "Epoch : 1 [35200/60000 (59%)]\tLoss: 1.505769\t Accuracy:96.739%\n",
            "Epoch : 1 [36800/60000 (61%)]\tLoss: 1.462064\t Accuracy:96.764%\n",
            "Epoch : 1 [38400/60000 (64%)]\tLoss: 1.461476\t Accuracy:96.777%\n",
            "Epoch : 1 [40000/60000 (67%)]\tLoss: 1.461373\t Accuracy:96.788%\n",
            "Epoch : 1 [41600/60000 (69%)]\tLoss: 1.463313\t Accuracy:96.806%\n",
            "Epoch : 1 [43200/60000 (72%)]\tLoss: 1.485730\t Accuracy:96.783%\n",
            "Epoch : 1 [44800/60000 (75%)]\tLoss: 1.461591\t Accuracy:96.775%\n",
            "Epoch : 1 [46400/60000 (77%)]\tLoss: 1.482352\t Accuracy:96.746%\n",
            "Epoch : 1 [48000/60000 (80%)]\tLoss: 1.462861\t Accuracy:96.732%\n",
            "Epoch : 1 [49600/60000 (83%)]\tLoss: 1.463532\t Accuracy:96.732%\n",
            "Epoch : 1 [51200/60000 (85%)]\tLoss: 1.461436\t Accuracy:96.745%\n",
            "Epoch : 1 [52800/60000 (88%)]\tLoss: 1.586763\t Accuracy:96.775%\n",
            "Epoch : 1 [54400/60000 (91%)]\tLoss: 1.463560\t Accuracy:96.785%\n",
            "Epoch : 1 [56000/60000 (93%)]\tLoss: 1.571055\t Accuracy:96.790%\n",
            "Epoch : 1 [57600/60000 (96%)]\tLoss: 1.462274\t Accuracy:96.813%\n",
            "Epoch : 1 [59200/60000 (99%)]\tLoss: 1.461388\t Accuracy:96.857%\n",
            "Epoch : 2 [0/60000 (0%)]\tLoss: 1.492690\t Accuracy:100.000%\n",
            "Epoch : 2 [1600/60000 (3%)]\tLoss: 1.586277\t Accuracy:96.766%\n",
            "Epoch : 2 [3200/60000 (5%)]\tLoss: 1.461346\t Accuracy:97.288%\n",
            "Epoch : 2 [4800/60000 (8%)]\tLoss: 1.463881\t Accuracy:97.359%\n",
            "Epoch : 2 [6400/60000 (11%)]\tLoss: 1.461392\t Accuracy:97.347%\n",
            "Epoch : 2 [8000/60000 (13%)]\tLoss: 1.461153\t Accuracy:97.178%\n",
            "Epoch : 2 [9600/60000 (16%)]\tLoss: 1.534190\t Accuracy:97.075%\n",
            "Epoch : 2 [11200/60000 (19%)]\tLoss: 1.495594\t Accuracy:97.091%\n",
            "Epoch : 2 [12800/60000 (21%)]\tLoss: 1.469723\t Accuracy:97.236%\n",
            "Epoch : 2 [14400/60000 (24%)]\tLoss: 1.506755\t Accuracy:97.252%\n",
            "Epoch : 2 [16000/60000 (27%)]\tLoss: 1.461355\t Accuracy:97.283%\n",
            "Epoch : 2 [17600/60000 (29%)]\tLoss: 1.509520\t Accuracy:97.308%\n",
            "Epoch : 2 [19200/60000 (32%)]\tLoss: 1.461194\t Accuracy:97.340%\n",
            "Epoch : 2 [20800/60000 (35%)]\tLoss: 1.461348\t Accuracy:97.314%\n",
            "Epoch : 2 [22400/60000 (37%)]\tLoss: 1.585612\t Accuracy:97.371%\n",
            "Epoch : 2 [24000/60000 (40%)]\tLoss: 1.477606\t Accuracy:97.418%\n",
            "Epoch : 2 [25600/60000 (43%)]\tLoss: 1.461337\t Accuracy:97.446%\n",
            "Epoch : 2 [27200/60000 (45%)]\tLoss: 1.482602\t Accuracy:97.383%\n",
            "Epoch : 2 [28800/60000 (48%)]\tLoss: 1.468568\t Accuracy:97.386%\n",
            "Epoch : 2 [30400/60000 (51%)]\tLoss: 1.461153\t Accuracy:97.395%\n",
            "Epoch : 2 [32000/60000 (53%)]\tLoss: 1.461530\t Accuracy:97.369%\n",
            "Epoch : 2 [33600/60000 (56%)]\tLoss: 1.517726\t Accuracy:97.393%\n",
            "Epoch : 2 [35200/60000 (59%)]\tLoss: 1.523855\t Accuracy:97.415%\n",
            "Epoch : 2 [36800/60000 (61%)]\tLoss: 1.461587\t Accuracy:97.438%\n",
            "Epoch : 2 [38400/60000 (64%)]\tLoss: 1.461165\t Accuracy:97.467%\n",
            "Epoch : 2 [40000/60000 (67%)]\tLoss: 1.461186\t Accuracy:97.493%\n",
            "Epoch : 2 [41600/60000 (69%)]\tLoss: 1.461229\t Accuracy:97.508%\n",
            "Epoch : 2 [43200/60000 (72%)]\tLoss: 1.573110\t Accuracy:97.489%\n",
            "Epoch : 2 [44800/60000 (75%)]\tLoss: 1.462652\t Accuracy:97.492%\n",
            "Epoch : 2 [46400/60000 (77%)]\tLoss: 1.471458\t Accuracy:97.466%\n",
            "Epoch : 2 [48000/60000 (80%)]\tLoss: 1.464866\t Accuracy:97.459%\n",
            "Epoch : 2 [49600/60000 (83%)]\tLoss: 1.513565\t Accuracy:97.452%\n",
            "Epoch : 2 [51200/60000 (85%)]\tLoss: 1.464370\t Accuracy:97.469%\n",
            "Epoch : 2 [52800/60000 (88%)]\tLoss: 1.656969\t Accuracy:97.476%\n",
            "Epoch : 2 [54400/60000 (91%)]\tLoss: 1.461769\t Accuracy:97.473%\n",
            "Epoch : 2 [56000/60000 (93%)]\tLoss: 1.539290\t Accuracy:97.481%\n",
            "Epoch : 2 [57600/60000 (96%)]\tLoss: 1.462902\t Accuracy:97.490%\n",
            "Epoch : 2 [59200/60000 (99%)]\tLoss: 1.509683\t Accuracy:97.514%\n",
            "Epoch : 3 [0/60000 (0%)]\tLoss: 1.472003\t Accuracy:100.000%\n",
            "Epoch : 3 [1600/60000 (3%)]\tLoss: 1.587982\t Accuracy:97.388%\n",
            "Epoch : 3 [3200/60000 (5%)]\tLoss: 1.462809\t Accuracy:97.506%\n",
            "Epoch : 3 [4800/60000 (8%)]\tLoss: 1.473966\t Accuracy:97.671%\n",
            "Epoch : 3 [6400/60000 (11%)]\tLoss: 1.461275\t Accuracy:97.722%\n",
            "Epoch : 3 [8000/60000 (13%)]\tLoss: 1.461152\t Accuracy:97.615%\n",
            "Epoch : 3 [9600/60000 (16%)]\tLoss: 1.464544\t Accuracy:97.512%\n",
            "Epoch : 3 [11200/60000 (19%)]\tLoss: 1.466967\t Accuracy:97.600%\n",
            "Epoch : 3 [12800/60000 (21%)]\tLoss: 1.478706\t Accuracy:97.681%\n",
            "Epoch : 3 [14400/60000 (24%)]\tLoss: 1.538003\t Accuracy:97.668%\n",
            "Epoch : 3 [16000/60000 (27%)]\tLoss: 1.461308\t Accuracy:97.695%\n",
            "Epoch : 3 [17600/60000 (29%)]\tLoss: 1.492788\t Accuracy:97.694%\n",
            "Epoch : 3 [19200/60000 (32%)]\tLoss: 1.461221\t Accuracy:97.694%\n",
            "Epoch : 3 [20800/60000 (35%)]\tLoss: 1.461531\t Accuracy:97.693%\n",
            "Epoch : 3 [22400/60000 (37%)]\tLoss: 1.584231\t Accuracy:97.737%\n",
            "Epoch : 3 [24000/60000 (40%)]\tLoss: 1.464553\t Accuracy:97.772%\n",
            "Epoch : 3 [25600/60000 (43%)]\tLoss: 1.461204\t Accuracy:97.809%\n",
            "Epoch : 3 [27200/60000 (45%)]\tLoss: 1.464616\t Accuracy:97.725%\n",
            "Epoch : 3 [28800/60000 (48%)]\tLoss: 1.499158\t Accuracy:97.723%\n",
            "Epoch : 3 [30400/60000 (51%)]\tLoss: 1.461158\t Accuracy:97.754%\n",
            "Epoch : 3 [32000/60000 (53%)]\tLoss: 1.484326\t Accuracy:97.747%\n",
            "Epoch : 3 [33600/60000 (56%)]\tLoss: 1.489262\t Accuracy:97.751%\n",
            "Epoch : 3 [35200/60000 (59%)]\tLoss: 1.503888\t Accuracy:97.770%\n",
            "Epoch : 3 [36800/60000 (61%)]\tLoss: 1.461456\t Accuracy:97.778%\n",
            "Epoch : 3 [38400/60000 (64%)]\tLoss: 1.461186\t Accuracy:97.792%\n",
            "Epoch : 3 [40000/60000 (67%)]\tLoss: 1.461363\t Accuracy:97.775%\n",
            "Epoch : 3 [41600/60000 (69%)]\tLoss: 1.461483\t Accuracy:97.777%\n",
            "Epoch : 3 [43200/60000 (72%)]\tLoss: 1.545331\t Accuracy:97.732%\n",
            "Epoch : 3 [44800/60000 (75%)]\tLoss: 1.461509\t Accuracy:97.737%\n",
            "Epoch : 3 [46400/60000 (77%)]\tLoss: 1.484227\t Accuracy:97.707%\n",
            "Epoch : 3 [48000/60000 (80%)]\tLoss: 1.474797\t Accuracy:97.702%\n",
            "Epoch : 3 [49600/60000 (83%)]\tLoss: 1.549686\t Accuracy:97.696%\n",
            "Epoch : 3 [51200/60000 (85%)]\tLoss: 1.462680\t Accuracy:97.711%\n",
            "Epoch : 3 [52800/60000 (88%)]\tLoss: 1.597384\t Accuracy:97.726%\n",
            "Epoch : 3 [54400/60000 (91%)]\tLoss: 1.461371\t Accuracy:97.730%\n",
            "Epoch : 3 [56000/60000 (93%)]\tLoss: 1.550316\t Accuracy:97.727%\n",
            "Epoch : 3 [57600/60000 (96%)]\tLoss: 1.576084\t Accuracy:97.735%\n",
            "Epoch : 3 [59200/60000 (99%)]\tLoss: 1.461194\t Accuracy:97.762%\n",
            "Epoch : 4 [0/60000 (0%)]\tLoss: 1.485843\t Accuracy:100.000%\n",
            "Epoch : 4 [1600/60000 (3%)]\tLoss: 1.586339\t Accuracy:97.699%\n",
            "Epoch : 4 [3200/60000 (5%)]\tLoss: 1.461307\t Accuracy:98.223%\n",
            "Epoch : 4 [4800/60000 (8%)]\tLoss: 1.465345\t Accuracy:98.191%\n",
            "Epoch : 4 [6400/60000 (11%)]\tLoss: 1.461705\t Accuracy:98.127%\n",
            "Epoch : 4 [8000/60000 (13%)]\tLoss: 1.461152\t Accuracy:98.027%\n",
            "Epoch : 4 [9600/60000 (16%)]\tLoss: 1.465975\t Accuracy:97.856%\n",
            "Epoch : 4 [11200/60000 (19%)]\tLoss: 1.461679\t Accuracy:97.903%\n",
            "Epoch : 4 [12800/60000 (21%)]\tLoss: 1.489907\t Accuracy:97.947%\n",
            "Epoch : 4 [14400/60000 (24%)]\tLoss: 1.530455\t Accuracy:97.953%\n",
            "Epoch : 4 [16000/60000 (27%)]\tLoss: 1.461178\t Accuracy:97.945%\n",
            "Epoch : 4 [17600/60000 (29%)]\tLoss: 1.470674\t Accuracy:97.955%\n",
            "Epoch : 4 [19200/60000 (32%)]\tLoss: 1.461238\t Accuracy:97.964%\n",
            "Epoch : 4 [20800/60000 (35%)]\tLoss: 1.461199\t Accuracy:97.962%\n",
            "Epoch : 4 [22400/60000 (37%)]\tLoss: 1.570419\t Accuracy:98.005%\n",
            "Epoch : 4 [24000/60000 (40%)]\tLoss: 1.466317\t Accuracy:98.021%\n",
            "Epoch : 4 [25600/60000 (43%)]\tLoss: 1.461713\t Accuracy:98.032%\n",
            "Epoch : 4 [27200/60000 (45%)]\tLoss: 1.486078\t Accuracy:97.982%\n",
            "Epoch : 4 [28800/60000 (48%)]\tLoss: 1.472860\t Accuracy:97.980%\n",
            "Epoch : 4 [30400/60000 (51%)]\tLoss: 1.461182\t Accuracy:98.010%\n",
            "Epoch : 4 [32000/60000 (53%)]\tLoss: 1.465894\t Accuracy:97.994%\n",
            "Epoch : 4 [33600/60000 (56%)]\tLoss: 1.550568\t Accuracy:97.992%\n",
            "Epoch : 4 [35200/60000 (59%)]\tLoss: 1.561115\t Accuracy:98.009%\n",
            "Epoch : 4 [36800/60000 (61%)]\tLoss: 1.461521\t Accuracy:98.003%\n",
            "Epoch : 4 [38400/60000 (64%)]\tLoss: 1.462066\t Accuracy:98.016%\n",
            "Epoch : 4 [40000/60000 (67%)]\tLoss: 1.461167\t Accuracy:98.018%\n",
            "Epoch : 4 [41600/60000 (69%)]\tLoss: 1.498493\t Accuracy:98.005%\n",
            "Epoch : 4 [43200/60000 (72%)]\tLoss: 1.563546\t Accuracy:97.975%\n",
            "Epoch : 4 [44800/60000 (75%)]\tLoss: 1.461880\t Accuracy:97.976%\n",
            "Epoch : 4 [46400/60000 (77%)]\tLoss: 1.465039\t Accuracy:97.946%\n",
            "Epoch : 4 [48000/60000 (80%)]\tLoss: 1.467598\t Accuracy:97.932%\n",
            "Epoch : 4 [49600/60000 (83%)]\tLoss: 1.573209\t Accuracy:97.928%\n",
            "Epoch : 4 [51200/60000 (85%)]\tLoss: 1.463204\t Accuracy:97.936%\n",
            "Epoch : 4 [52800/60000 (88%)]\tLoss: 1.625029\t Accuracy:97.943%\n",
            "Epoch : 4 [54400/60000 (91%)]\tLoss: 1.461475\t Accuracy:97.947%\n",
            "Epoch : 4 [56000/60000 (93%)]\tLoss: 1.467438\t Accuracy:97.956%\n",
            "Epoch : 4 [57600/60000 (96%)]\tLoss: 1.479124\t Accuracy:97.971%\n",
            "Epoch : 4 [59200/60000 (99%)]\tLoss: 1.461704\t Accuracy:97.987%\n",
            "Epoch : 5 [0/60000 (0%)]\tLoss: 1.461198\t Accuracy:100.000%\n",
            "Epoch : 5 [1600/60000 (3%)]\tLoss: 1.586523\t Accuracy:97.699%\n",
            "Epoch : 5 [3200/60000 (5%)]\tLoss: 1.462008\t Accuracy:98.067%\n",
            "Epoch : 5 [4800/60000 (8%)]\tLoss: 1.464118\t Accuracy:98.191%\n",
            "Epoch : 5 [6400/60000 (11%)]\tLoss: 1.461881\t Accuracy:98.283%\n",
            "Epoch : 5 [8000/60000 (13%)]\tLoss: 1.461159\t Accuracy:98.189%\n",
            "Epoch : 5 [9600/60000 (16%)]\tLoss: 1.463327\t Accuracy:98.054%\n",
            "Epoch : 5 [11200/60000 (19%)]\tLoss: 1.462556\t Accuracy:98.100%\n",
            "Epoch : 5 [12800/60000 (21%)]\tLoss: 1.469504\t Accuracy:98.157%\n",
            "Epoch : 5 [14400/60000 (24%)]\tLoss: 1.566046\t Accuracy:98.147%\n",
            "Epoch : 5 [16000/60000 (27%)]\tLoss: 1.461159\t Accuracy:98.138%\n",
            "Epoch : 5 [17600/60000 (29%)]\tLoss: 1.477809\t Accuracy:98.132%\n",
            "Epoch : 5 [19200/60000 (32%)]\tLoss: 1.461202\t Accuracy:98.136%\n",
            "Epoch : 5 [20800/60000 (35%)]\tLoss: 1.461270\t Accuracy:98.140%\n",
            "Epoch : 5 [22400/60000 (37%)]\tLoss: 1.583048\t Accuracy:98.175%\n",
            "Epoch : 5 [24000/60000 (40%)]\tLoss: 1.463084\t Accuracy:98.201%\n",
            "Epoch : 5 [25600/60000 (43%)]\tLoss: 1.461282\t Accuracy:98.192%\n",
            "Epoch : 5 [27200/60000 (45%)]\tLoss: 1.508348\t Accuracy:98.159%\n",
            "Epoch : 5 [28800/60000 (48%)]\tLoss: 1.509317\t Accuracy:98.146%\n",
            "Epoch : 5 [30400/60000 (51%)]\tLoss: 1.461155\t Accuracy:98.158%\n",
            "Epoch : 5 [32000/60000 (53%)]\tLoss: 1.465122\t Accuracy:98.144%\n",
            "Epoch : 5 [33600/60000 (56%)]\tLoss: 1.491854\t Accuracy:98.149%\n",
            "Epoch : 5 [35200/60000 (59%)]\tLoss: 1.576402\t Accuracy:98.157%\n",
            "Epoch : 5 [36800/60000 (61%)]\tLoss: 1.461987\t Accuracy:98.161%\n",
            "Epoch : 5 [38400/60000 (64%)]\tLoss: 1.461161\t Accuracy:98.164%\n",
            "Epoch : 5 [40000/60000 (67%)]\tLoss: 1.461161\t Accuracy:98.180%\n",
            "Epoch : 5 [41600/60000 (69%)]\tLoss: 1.474163\t Accuracy:98.169%\n",
            "Epoch : 5 [43200/60000 (72%)]\tLoss: 1.583966\t Accuracy:98.130%\n",
            "Epoch : 5 [44800/60000 (75%)]\tLoss: 1.461901\t Accuracy:98.123%\n",
            "Epoch : 5 [46400/60000 (77%)]\tLoss: 1.487650\t Accuracy:98.106%\n",
            "Epoch : 5 [48000/60000 (80%)]\tLoss: 1.479146\t Accuracy:98.096%\n",
            "Epoch : 5 [49600/60000 (83%)]\tLoss: 1.568918\t Accuracy:98.085%\n",
            "Epoch : 5 [51200/60000 (85%)]\tLoss: 1.461477\t Accuracy:98.100%\n",
            "Epoch : 5 [52800/60000 (88%)]\tLoss: 1.646853\t Accuracy:98.108%\n",
            "Epoch : 5 [54400/60000 (91%)]\tLoss: 1.461201\t Accuracy:98.101%\n",
            "Epoch : 5 [56000/60000 (93%)]\tLoss: 1.527861\t Accuracy:98.093%\n",
            "Epoch : 5 [57600/60000 (96%)]\tLoss: 1.535021\t Accuracy:98.089%\n",
            "Epoch : 5 [59200/60000 (99%)]\tLoss: 1.461190\t Accuracy:98.113%\n",
            "Epoch : 6 [0/60000 (0%)]\tLoss: 1.461790\t Accuracy:100.000%\n",
            "Epoch : 6 [1600/60000 (3%)]\tLoss: 1.586210\t Accuracy:97.450%\n",
            "Epoch : 6 [3200/60000 (5%)]\tLoss: 1.464084\t Accuracy:97.724%\n",
            "Epoch : 6 [4800/60000 (8%)]\tLoss: 1.465967\t Accuracy:97.962%\n",
            "Epoch : 6 [6400/60000 (11%)]\tLoss: 1.461273\t Accuracy:98.034%\n",
            "Epoch : 6 [8000/60000 (13%)]\tLoss: 1.461158\t Accuracy:97.965%\n",
            "Epoch : 6 [9600/60000 (16%)]\tLoss: 1.462840\t Accuracy:97.783%\n",
            "Epoch : 6 [11200/60000 (19%)]\tLoss: 1.464962\t Accuracy:97.912%\n",
            "Epoch : 6 [12800/60000 (21%)]\tLoss: 1.461462\t Accuracy:97.978%\n",
            "Epoch : 6 [14400/60000 (24%)]\tLoss: 1.552992\t Accuracy:98.029%\n",
            "Epoch : 6 [16000/60000 (27%)]\tLoss: 1.461186\t Accuracy:98.020%\n",
            "Epoch : 6 [17600/60000 (29%)]\tLoss: 1.464190\t Accuracy:98.063%\n",
            "Epoch : 6 [19200/60000 (32%)]\tLoss: 1.461391\t Accuracy:98.053%\n",
            "Epoch : 6 [20800/60000 (35%)]\tLoss: 1.461271\t Accuracy:98.063%\n",
            "Epoch : 6 [22400/60000 (37%)]\tLoss: 1.583844\t Accuracy:98.135%\n",
            "Epoch : 6 [24000/60000 (40%)]\tLoss: 1.466886\t Accuracy:98.146%\n",
            "Epoch : 6 [25600/60000 (43%)]\tLoss: 1.461201\t Accuracy:98.169%\n",
            "Epoch : 6 [27200/60000 (45%)]\tLoss: 1.527216\t Accuracy:98.129%\n",
            "Epoch : 6 [28800/60000 (48%)]\tLoss: 1.478408\t Accuracy:98.122%\n",
            "Epoch : 6 [30400/60000 (51%)]\tLoss: 1.461161\t Accuracy:98.142%\n",
            "Epoch : 6 [32000/60000 (53%)]\tLoss: 1.468824\t Accuracy:98.138%\n",
            "Epoch : 6 [33600/60000 (56%)]\tLoss: 1.496397\t Accuracy:98.155%\n",
            "Epoch : 6 [35200/60000 (59%)]\tLoss: 1.573433\t Accuracy:98.160%\n",
            "Epoch : 6 [36800/60000 (61%)]\tLoss: 1.461419\t Accuracy:98.161%\n",
            "Epoch : 6 [38400/60000 (64%)]\tLoss: 1.461556\t Accuracy:98.159%\n",
            "Epoch : 6 [40000/60000 (67%)]\tLoss: 1.461173\t Accuracy:98.178%\n",
            "Epoch : 6 [41600/60000 (69%)]\tLoss: 1.461267\t Accuracy:98.173%\n",
            "Epoch : 6 [43200/60000 (72%)]\tLoss: 1.530587\t Accuracy:98.146%\n",
            "Epoch : 6 [44800/60000 (75%)]\tLoss: 1.461589\t Accuracy:98.154%\n",
            "Epoch : 6 [46400/60000 (77%)]\tLoss: 1.474453\t Accuracy:98.136%\n",
            "Epoch : 6 [48000/60000 (80%)]\tLoss: 1.462844\t Accuracy:98.129%\n",
            "Epoch : 6 [49600/60000 (83%)]\tLoss: 1.542560\t Accuracy:98.105%\n",
            "Epoch : 6 [51200/60000 (85%)]\tLoss: 1.461318\t Accuracy:98.112%\n",
            "Epoch : 6 [52800/60000 (88%)]\tLoss: 1.682421\t Accuracy:98.118%\n",
            "Epoch : 6 [54400/60000 (91%)]\tLoss: 1.461209\t Accuracy:98.122%\n",
            "Epoch : 6 [56000/60000 (93%)]\tLoss: 1.538694\t Accuracy:98.118%\n",
            "Epoch : 6 [57600/60000 (96%)]\tLoss: 1.551255\t Accuracy:98.125%\n",
            "Epoch : 6 [59200/60000 (99%)]\tLoss: 1.461272\t Accuracy:98.144%\n",
            "Epoch : 7 [0/60000 (0%)]\tLoss: 1.461635\t Accuracy:100.000%\n",
            "Epoch : 7 [1600/60000 (3%)]\tLoss: 1.587203\t Accuracy:97.761%\n",
            "Epoch : 7 [3200/60000 (5%)]\tLoss: 1.462391\t Accuracy:98.192%\n",
            "Epoch : 7 [4800/60000 (8%)]\tLoss: 1.471086\t Accuracy:98.232%\n",
            "Epoch : 7 [6400/60000 (11%)]\tLoss: 1.461309\t Accuracy:98.299%\n",
            "Epoch : 7 [8000/60000 (13%)]\tLoss: 1.461152\t Accuracy:98.252%\n",
            "Epoch : 7 [9600/60000 (16%)]\tLoss: 1.461636\t Accuracy:98.127%\n",
            "Epoch : 7 [11200/60000 (19%)]\tLoss: 1.467149\t Accuracy:98.251%\n",
            "Epoch : 7 [12800/60000 (21%)]\tLoss: 1.461466\t Accuracy:98.298%\n",
            "Epoch : 7 [14400/60000 (24%)]\tLoss: 1.557041\t Accuracy:98.293%\n",
            "Epoch : 7 [16000/60000 (27%)]\tLoss: 1.461185\t Accuracy:98.313%\n",
            "Epoch : 7 [17600/60000 (29%)]\tLoss: 1.481127\t Accuracy:98.319%\n",
            "Epoch : 7 [19200/60000 (32%)]\tLoss: 1.461260\t Accuracy:98.292%\n",
            "Epoch : 7 [20800/60000 (35%)]\tLoss: 1.461188\t Accuracy:98.289%\n",
            "Epoch : 7 [22400/60000 (37%)]\tLoss: 1.583983\t Accuracy:98.326%\n",
            "Epoch : 7 [24000/60000 (40%)]\tLoss: 1.463930\t Accuracy:98.351%\n",
            "Epoch : 7 [25600/60000 (43%)]\tLoss: 1.461219\t Accuracy:98.360%\n",
            "Epoch : 7 [27200/60000 (45%)]\tLoss: 1.478332\t Accuracy:98.324%\n",
            "Epoch : 7 [28800/60000 (48%)]\tLoss: 1.505898\t Accuracy:98.316%\n",
            "Epoch : 7 [30400/60000 (51%)]\tLoss: 1.461158\t Accuracy:98.333%\n",
            "Epoch : 7 [32000/60000 (53%)]\tLoss: 1.462892\t Accuracy:98.316%\n",
            "Epoch : 7 [33600/60000 (56%)]\tLoss: 1.488486\t Accuracy:98.319%\n",
            "Epoch : 7 [35200/60000 (59%)]\tLoss: 1.526475\t Accuracy:98.321%\n",
            "Epoch : 7 [36800/60000 (61%)]\tLoss: 1.461286\t Accuracy:98.321%\n",
            "Epoch : 7 [38400/60000 (64%)]\tLoss: 1.461164\t Accuracy:98.326%\n",
            "Epoch : 7 [40000/60000 (67%)]\tLoss: 1.461180\t Accuracy:98.320%\n",
            "Epoch : 7 [41600/60000 (69%)]\tLoss: 1.461368\t Accuracy:98.296%\n",
            "Epoch : 7 [43200/60000 (72%)]\tLoss: 1.586157\t Accuracy:98.276%\n",
            "Epoch : 7 [44800/60000 (75%)]\tLoss: 1.461449\t Accuracy:98.273%\n",
            "Epoch : 7 [46400/60000 (77%)]\tLoss: 1.467666\t Accuracy:98.257%\n",
            "Epoch : 7 [48000/60000 (80%)]\tLoss: 1.461616\t Accuracy:98.261%\n",
            "Epoch : 7 [49600/60000 (83%)]\tLoss: 1.544315\t Accuracy:98.246%\n",
            "Epoch : 7 [51200/60000 (85%)]\tLoss: 1.461952\t Accuracy:98.244%\n",
            "Epoch : 7 [52800/60000 (88%)]\tLoss: 1.608545\t Accuracy:98.256%\n",
            "Epoch : 7 [54400/60000 (91%)]\tLoss: 1.461258\t Accuracy:98.239%\n",
            "Epoch : 7 [56000/60000 (93%)]\tLoss: 1.474163\t Accuracy:98.234%\n",
            "Epoch : 7 [57600/60000 (96%)]\tLoss: 1.469594\t Accuracy:98.249%\n",
            "Epoch : 7 [59200/60000 (99%)]\tLoss: 1.461204\t Accuracy:98.264%\n",
            "Epoch : 8 [0/60000 (0%)]\tLoss: 1.461275\t Accuracy:100.000%\n",
            "Epoch : 8 [1600/60000 (3%)]\tLoss: 1.586697\t Accuracy:97.823%\n",
            "Epoch : 8 [3200/60000 (5%)]\tLoss: 1.461324\t Accuracy:98.317%\n",
            "Epoch : 8 [4800/60000 (8%)]\tLoss: 1.463521\t Accuracy:98.336%\n",
            "Epoch : 8 [6400/60000 (11%)]\tLoss: 1.461269\t Accuracy:98.424%\n",
            "Epoch : 8 [8000/60000 (13%)]\tLoss: 1.461152\t Accuracy:98.352%\n",
            "Epoch : 8 [9600/60000 (16%)]\tLoss: 1.461515\t Accuracy:98.210%\n",
            "Epoch : 8 [11200/60000 (19%)]\tLoss: 1.504742\t Accuracy:98.260%\n",
            "Epoch : 8 [12800/60000 (21%)]\tLoss: 1.462778\t Accuracy:98.321%\n",
            "Epoch : 8 [14400/60000 (24%)]\tLoss: 1.559298\t Accuracy:98.355%\n",
            "Epoch : 8 [16000/60000 (27%)]\tLoss: 1.461192\t Accuracy:98.382%\n",
            "Epoch : 8 [17600/60000 (29%)]\tLoss: 1.465620\t Accuracy:98.381%\n",
            "Epoch : 8 [19200/60000 (32%)]\tLoss: 1.461354\t Accuracy:98.370%\n",
            "Epoch : 8 [20800/60000 (35%)]\tLoss: 1.461165\t Accuracy:98.366%\n",
            "Epoch : 8 [22400/60000 (37%)]\tLoss: 1.574514\t Accuracy:98.407%\n",
            "Epoch : 8 [24000/60000 (40%)]\tLoss: 1.464054\t Accuracy:98.417%\n",
            "Epoch : 8 [25600/60000 (43%)]\tLoss: 1.461314\t Accuracy:98.438%\n",
            "Epoch : 8 [27200/60000 (45%)]\tLoss: 1.522303\t Accuracy:98.401%\n",
            "Epoch : 8 [28800/60000 (48%)]\tLoss: 1.469490\t Accuracy:98.379%\n",
            "Epoch : 8 [30400/60000 (51%)]\tLoss: 1.461162\t Accuracy:98.395%\n",
            "Epoch : 8 [32000/60000 (53%)]\tLoss: 1.462805\t Accuracy:98.391%\n",
            "Epoch : 8 [33600/60000 (56%)]\tLoss: 1.474638\t Accuracy:98.393%\n",
            "Epoch : 8 [35200/60000 (59%)]\tLoss: 1.547277\t Accuracy:98.401%\n",
            "Epoch : 8 [36800/60000 (61%)]\tLoss: 1.461292\t Accuracy:98.389%\n",
            "Epoch : 8 [38400/60000 (64%)]\tLoss: 1.461176\t Accuracy:98.388%\n",
            "Epoch : 8 [40000/60000 (67%)]\tLoss: 1.461166\t Accuracy:98.388%\n",
            "Epoch : 8 [41600/60000 (69%)]\tLoss: 1.464124\t Accuracy:98.371%\n",
            "Epoch : 8 [43200/60000 (72%)]\tLoss: 1.560596\t Accuracy:98.338%\n",
            "Epoch : 8 [44800/60000 (75%)]\tLoss: 1.461957\t Accuracy:98.342%\n",
            "Epoch : 8 [46400/60000 (77%)]\tLoss: 1.482530\t Accuracy:98.311%\n",
            "Epoch : 8 [48000/60000 (80%)]\tLoss: 1.461676\t Accuracy:98.309%\n",
            "Epoch : 8 [49600/60000 (83%)]\tLoss: 1.483062\t Accuracy:98.305%\n",
            "Epoch : 8 [51200/60000 (85%)]\tLoss: 1.461254\t Accuracy:98.315%\n",
            "Epoch : 8 [52800/60000 (88%)]\tLoss: 1.664153\t Accuracy:98.326%\n",
            "Epoch : 8 [54400/60000 (91%)]\tLoss: 1.461187\t Accuracy:98.322%\n",
            "Epoch : 8 [56000/60000 (93%)]\tLoss: 1.468478\t Accuracy:98.323%\n",
            "Epoch : 8 [57600/60000 (96%)]\tLoss: 1.467909\t Accuracy:98.334%\n",
            "Epoch : 8 [59200/60000 (99%)]\tLoss: 1.461348\t Accuracy:98.343%\n",
            "Epoch : 9 [0/60000 (0%)]\tLoss: 1.462734\t Accuracy:100.000%\n",
            "Epoch : 9 [1600/60000 (3%)]\tLoss: 1.586645\t Accuracy:98.072%\n",
            "Epoch : 9 [3200/60000 (5%)]\tLoss: 1.461669\t Accuracy:98.192%\n",
            "Epoch : 9 [4800/60000 (8%)]\tLoss: 1.467982\t Accuracy:98.232%\n",
            "Epoch : 9 [6400/60000 (11%)]\tLoss: 1.461245\t Accuracy:98.361%\n",
            "Epoch : 9 [8000/60000 (13%)]\tLoss: 1.461175\t Accuracy:98.264%\n",
            "Epoch : 9 [9600/60000 (16%)]\tLoss: 1.471233\t Accuracy:98.106%\n",
            "Epoch : 9 [11200/60000 (19%)]\tLoss: 1.505357\t Accuracy:98.198%\n",
            "Epoch : 9 [12800/60000 (21%)]\tLoss: 1.462217\t Accuracy:98.251%\n",
            "Epoch : 9 [14400/60000 (24%)]\tLoss: 1.570243\t Accuracy:98.286%\n",
            "Epoch : 9 [16000/60000 (27%)]\tLoss: 1.461176\t Accuracy:98.307%\n",
            "Epoch : 9 [17600/60000 (29%)]\tLoss: 1.477895\t Accuracy:98.325%\n",
            "Epoch : 9 [19200/60000 (32%)]\tLoss: 1.461313\t Accuracy:98.313%\n",
            "Epoch : 9 [20800/60000 (35%)]\tLoss: 1.461233\t Accuracy:98.308%\n",
            "Epoch : 9 [22400/60000 (37%)]\tLoss: 1.571851\t Accuracy:98.362%\n",
            "Epoch : 9 [24000/60000 (40%)]\tLoss: 1.465073\t Accuracy:98.396%\n",
            "Epoch : 9 [25600/60000 (43%)]\tLoss: 1.461447\t Accuracy:98.418%\n",
            "Epoch : 9 [27200/60000 (45%)]\tLoss: 1.575523\t Accuracy:98.372%\n",
            "Epoch : 9 [28800/60000 (48%)]\tLoss: 1.499207\t Accuracy:98.365%\n",
            "Epoch : 9 [30400/60000 (51%)]\tLoss: 1.461161\t Accuracy:98.372%\n",
            "Epoch : 9 [32000/60000 (53%)]\tLoss: 1.467561\t Accuracy:98.363%\n",
            "Epoch : 9 [33600/60000 (56%)]\tLoss: 1.474312\t Accuracy:98.366%\n",
            "Epoch : 9 [35200/60000 (59%)]\tLoss: 1.507537\t Accuracy:98.373%\n",
            "Epoch : 9 [36800/60000 (61%)]\tLoss: 1.461197\t Accuracy:98.375%\n",
            "Epoch : 9 [38400/60000 (64%)]\tLoss: 1.461189\t Accuracy:98.388%\n",
            "Epoch : 9 [40000/60000 (67%)]\tLoss: 1.461243\t Accuracy:98.405%\n",
            "Epoch : 9 [41600/60000 (69%)]\tLoss: 1.512550\t Accuracy:98.383%\n",
            "Epoch : 9 [43200/60000 (72%)]\tLoss: 1.546055\t Accuracy:98.364%\n",
            "Epoch : 9 [44800/60000 (75%)]\tLoss: 1.461660\t Accuracy:98.371%\n",
            "Epoch : 9 [46400/60000 (77%)]\tLoss: 1.477797\t Accuracy:98.347%\n",
            "Epoch : 9 [48000/60000 (80%)]\tLoss: 1.461664\t Accuracy:98.346%\n",
            "Epoch : 9 [49600/60000 (83%)]\tLoss: 1.468481\t Accuracy:98.335%\n",
            "Epoch : 9 [51200/60000 (85%)]\tLoss: 1.462811\t Accuracy:98.340%\n",
            "Epoch : 9 [52800/60000 (88%)]\tLoss: 1.678387\t Accuracy:98.343%\n",
            "Epoch : 9 [54400/60000 (91%)]\tLoss: 1.461222\t Accuracy:98.335%\n",
            "Epoch : 9 [56000/60000 (93%)]\tLoss: 1.491652\t Accuracy:98.341%\n",
            "Epoch : 9 [57600/60000 (96%)]\tLoss: 1.466260\t Accuracy:98.354%\n",
            "Epoch : 9 [59200/60000 (99%)]\tLoss: 1.461215\t Accuracy:98.367%\n",
            "Epoch : 10 [0/60000 (0%)]\tLoss: 1.461454\t Accuracy:100.000%\n",
            "Epoch : 10 [1600/60000 (3%)]\tLoss: 1.586424\t Accuracy:97.761%\n",
            "Epoch : 10 [3200/60000 (5%)]\tLoss: 1.542650\t Accuracy:98.192%\n",
            "Epoch : 10 [4800/60000 (8%)]\tLoss: 1.468591\t Accuracy:98.336%\n",
            "Epoch : 10 [6400/60000 (11%)]\tLoss: 1.461210\t Accuracy:98.377%\n",
            "Epoch : 10 [8000/60000 (13%)]\tLoss: 1.461152\t Accuracy:98.339%\n",
            "Epoch : 10 [9600/60000 (16%)]\tLoss: 1.465899\t Accuracy:98.210%\n",
            "Epoch : 10 [11200/60000 (19%)]\tLoss: 1.461469\t Accuracy:98.314%\n",
            "Epoch : 10 [12800/60000 (21%)]\tLoss: 1.464322\t Accuracy:98.353%\n",
            "Epoch : 10 [14400/60000 (24%)]\tLoss: 1.579724\t Accuracy:98.404%\n",
            "Epoch : 10 [16000/60000 (27%)]\tLoss: 1.461192\t Accuracy:98.357%\n",
            "Epoch : 10 [17600/60000 (29%)]\tLoss: 1.512208\t Accuracy:98.376%\n",
            "Epoch : 10 [19200/60000 (32%)]\tLoss: 1.461295\t Accuracy:98.355%\n",
            "Epoch : 10 [20800/60000 (35%)]\tLoss: 1.461216\t Accuracy:98.352%\n",
            "Epoch : 10 [22400/60000 (37%)]\tLoss: 1.578688\t Accuracy:98.376%\n",
            "Epoch : 10 [24000/60000 (40%)]\tLoss: 1.467800\t Accuracy:98.376%\n",
            "Epoch : 10 [25600/60000 (43%)]\tLoss: 1.461422\t Accuracy:98.411%\n",
            "Epoch : 10 [27200/60000 (45%)]\tLoss: 1.536366\t Accuracy:98.379%\n",
            "Epoch : 10 [28800/60000 (48%)]\tLoss: 1.508729\t Accuracy:98.382%\n",
            "Epoch : 10 [30400/60000 (51%)]\tLoss: 1.461171\t Accuracy:98.385%\n",
            "Epoch : 10 [32000/60000 (53%)]\tLoss: 1.463227\t Accuracy:98.388%\n",
            "Epoch : 10 [33600/60000 (56%)]\tLoss: 1.464469\t Accuracy:98.399%\n",
            "Epoch : 10 [35200/60000 (59%)]\tLoss: 1.518375\t Accuracy:98.412%\n",
            "Epoch : 10 [36800/60000 (61%)]\tLoss: 1.461245\t Accuracy:98.435%\n",
            "Epoch : 10 [38400/60000 (64%)]\tLoss: 1.461154\t Accuracy:98.443%\n",
            "Epoch : 10 [40000/60000 (67%)]\tLoss: 1.461220\t Accuracy:98.450%\n",
            "Epoch : 10 [41600/60000 (69%)]\tLoss: 1.462483\t Accuracy:98.421%\n",
            "Epoch : 10 [43200/60000 (72%)]\tLoss: 1.557355\t Accuracy:98.410%\n",
            "Epoch : 10 [44800/60000 (75%)]\tLoss: 1.461282\t Accuracy:98.413%\n",
            "Epoch : 10 [46400/60000 (77%)]\tLoss: 1.486287\t Accuracy:98.403%\n",
            "Epoch : 10 [48000/60000 (80%)]\tLoss: 1.464193\t Accuracy:98.384%\n",
            "Epoch : 10 [49600/60000 (83%)]\tLoss: 1.462537\t Accuracy:98.379%\n",
            "Epoch : 10 [51200/60000 (85%)]\tLoss: 1.461728\t Accuracy:98.383%\n",
            "Epoch : 10 [52800/60000 (88%)]\tLoss: 1.711984\t Accuracy:98.396%\n",
            "Epoch : 10 [54400/60000 (91%)]\tLoss: 1.461195\t Accuracy:98.383%\n",
            "Epoch : 10 [56000/60000 (93%)]\tLoss: 1.505344\t Accuracy:98.377%\n",
            "Epoch : 10 [57600/60000 (96%)]\tLoss: 1.490289\t Accuracy:98.384%\n",
            "Epoch : 10 [59200/60000 (99%)]\tLoss: 1.461169\t Accuracy:98.392%\n",
            "Epoch : 11 [0/60000 (0%)]\tLoss: 1.464333\t Accuracy:100.000%\n",
            "Epoch : 11 [1600/60000 (3%)]\tLoss: 1.587028\t Accuracy:97.948%\n",
            "Epoch : 11 [3200/60000 (5%)]\tLoss: 1.476429\t Accuracy:98.348%\n",
            "Epoch : 11 [4800/60000 (8%)]\tLoss: 1.467721\t Accuracy:98.378%\n",
            "Epoch : 11 [6400/60000 (11%)]\tLoss: 1.461235\t Accuracy:98.408%\n",
            "Epoch : 11 [8000/60000 (13%)]\tLoss: 1.461152\t Accuracy:98.327%\n",
            "Epoch : 11 [9600/60000 (16%)]\tLoss: 1.462414\t Accuracy:98.220%\n",
            "Epoch : 11 [11200/60000 (19%)]\tLoss: 1.462446\t Accuracy:98.305%\n",
            "Epoch : 11 [12800/60000 (21%)]\tLoss: 1.461624\t Accuracy:98.337%\n",
            "Epoch : 11 [14400/60000 (24%)]\tLoss: 1.529728\t Accuracy:98.376%\n",
            "Epoch : 11 [16000/60000 (27%)]\tLoss: 1.461197\t Accuracy:98.407%\n",
            "Epoch : 11 [17600/60000 (29%)]\tLoss: 1.482968\t Accuracy:98.438%\n",
            "Epoch : 11 [19200/60000 (32%)]\tLoss: 1.461262\t Accuracy:98.428%\n",
            "Epoch : 11 [20800/60000 (35%)]\tLoss: 1.461181\t Accuracy:98.433%\n",
            "Epoch : 11 [22400/60000 (37%)]\tLoss: 1.572014\t Accuracy:98.483%\n",
            "Epoch : 11 [24000/60000 (40%)]\tLoss: 1.462235\t Accuracy:98.496%\n",
            "Epoch : 11 [25600/60000 (43%)]\tLoss: 1.461234\t Accuracy:98.516%\n",
            "Epoch : 11 [27200/60000 (45%)]\tLoss: 1.475700\t Accuracy:98.486%\n",
            "Epoch : 11 [28800/60000 (48%)]\tLoss: 1.541920\t Accuracy:98.462%\n",
            "Epoch : 11 [30400/60000 (51%)]\tLoss: 1.461170\t Accuracy:98.481%\n",
            "Epoch : 11 [32000/60000 (53%)]\tLoss: 1.464765\t Accuracy:98.475%\n",
            "Epoch : 11 [33600/60000 (56%)]\tLoss: 1.463875\t Accuracy:98.480%\n",
            "Epoch : 11 [35200/60000 (59%)]\tLoss: 1.537080\t Accuracy:98.498%\n",
            "Epoch : 11 [36800/60000 (61%)]\tLoss: 1.461213\t Accuracy:98.495%\n",
            "Epoch : 11 [38400/60000 (64%)]\tLoss: 1.461158\t Accuracy:98.503%\n",
            "Epoch : 11 [40000/60000 (67%)]\tLoss: 1.461215\t Accuracy:98.510%\n",
            "Epoch : 11 [41600/60000 (69%)]\tLoss: 1.464408\t Accuracy:98.491%\n",
            "Epoch : 11 [43200/60000 (72%)]\tLoss: 1.585468\t Accuracy:98.468%\n",
            "Epoch : 11 [44800/60000 (75%)]\tLoss: 1.461383\t Accuracy:98.480%\n",
            "Epoch : 11 [46400/60000 (77%)]\tLoss: 1.484272\t Accuracy:98.464%\n",
            "Epoch : 11 [48000/60000 (80%)]\tLoss: 1.465638\t Accuracy:98.469%\n",
            "Epoch : 11 [49600/60000 (83%)]\tLoss: 1.463014\t Accuracy:98.464%\n",
            "Epoch : 11 [51200/60000 (85%)]\tLoss: 1.464400\t Accuracy:98.467%\n",
            "Epoch : 11 [52800/60000 (88%)]\tLoss: 1.712604\t Accuracy:98.464%\n",
            "Epoch : 11 [54400/60000 (91%)]\tLoss: 1.461328\t Accuracy:98.454%\n",
            "Epoch : 11 [56000/60000 (93%)]\tLoss: 1.503102\t Accuracy:98.452%\n",
            "Epoch : 11 [57600/60000 (96%)]\tLoss: 1.520516\t Accuracy:98.460%\n",
            "Epoch : 11 [59200/60000 (99%)]\tLoss: 1.461253\t Accuracy:98.471%\n",
            "Epoch : 12 [0/60000 (0%)]\tLoss: 1.471347\t Accuracy:100.000%\n",
            "Epoch : 12 [1600/60000 (3%)]\tLoss: 1.586837\t Accuracy:97.761%\n",
            "Epoch : 12 [3200/60000 (5%)]\tLoss: 1.462025\t Accuracy:98.130%\n",
            "Epoch : 12 [4800/60000 (8%)]\tLoss: 1.463779\t Accuracy:98.357%\n",
            "Epoch : 12 [6400/60000 (11%)]\tLoss: 1.461177\t Accuracy:98.377%\n",
            "Epoch : 12 [8000/60000 (13%)]\tLoss: 1.461160\t Accuracy:98.364%\n",
            "Epoch : 12 [9600/60000 (16%)]\tLoss: 1.499552\t Accuracy:98.231%\n",
            "Epoch : 12 [11200/60000 (19%)]\tLoss: 1.478824\t Accuracy:98.323%\n",
            "Epoch : 12 [12800/60000 (21%)]\tLoss: 1.463210\t Accuracy:98.431%\n",
            "Epoch : 12 [14400/60000 (24%)]\tLoss: 1.567904\t Accuracy:98.494%\n",
            "Epoch : 12 [16000/60000 (27%)]\tLoss: 1.461161\t Accuracy:98.482%\n",
            "Epoch : 12 [17600/60000 (29%)]\tLoss: 1.477345\t Accuracy:98.506%\n",
            "Epoch : 12 [19200/60000 (32%)]\tLoss: 1.461428\t Accuracy:98.511%\n",
            "Epoch : 12 [20800/60000 (35%)]\tLoss: 1.461231\t Accuracy:98.505%\n",
            "Epoch : 12 [22400/60000 (37%)]\tLoss: 1.570381\t Accuracy:98.536%\n",
            "Epoch : 12 [24000/60000 (40%)]\tLoss: 1.465289\t Accuracy:98.546%\n",
            "Epoch : 12 [25600/60000 (43%)]\tLoss: 1.461469\t Accuracy:98.551%\n",
            "Epoch : 12 [27200/60000 (45%)]\tLoss: 1.504329\t Accuracy:98.515%\n",
            "Epoch : 12 [28800/60000 (48%)]\tLoss: 1.515009\t Accuracy:98.500%\n",
            "Epoch : 12 [30400/60000 (51%)]\tLoss: 1.461185\t Accuracy:98.514%\n",
            "Epoch : 12 [32000/60000 (53%)]\tLoss: 1.466048\t Accuracy:98.503%\n",
            "Epoch : 12 [33600/60000 (56%)]\tLoss: 1.492387\t Accuracy:98.518%\n",
            "Epoch : 12 [35200/60000 (59%)]\tLoss: 1.494210\t Accuracy:98.526%\n",
            "Epoch : 12 [36800/60000 (61%)]\tLoss: 1.461261\t Accuracy:98.533%\n",
            "Epoch : 12 [38400/60000 (64%)]\tLoss: 1.461160\t Accuracy:98.537%\n",
            "Epoch : 12 [40000/60000 (67%)]\tLoss: 1.461326\t Accuracy:98.530%\n",
            "Epoch : 12 [41600/60000 (69%)]\tLoss: 1.468428\t Accuracy:98.515%\n",
            "Epoch : 12 [43200/60000 (72%)]\tLoss: 1.572779\t Accuracy:98.489%\n",
            "Epoch : 12 [44800/60000 (75%)]\tLoss: 1.461348\t Accuracy:98.480%\n",
            "Epoch : 12 [46400/60000 (77%)]\tLoss: 1.587938\t Accuracy:98.453%\n",
            "Epoch : 12 [48000/60000 (80%)]\tLoss: 1.461555\t Accuracy:98.446%\n",
            "Epoch : 12 [49600/60000 (83%)]\tLoss: 1.462206\t Accuracy:98.442%\n",
            "Epoch : 12 [51200/60000 (85%)]\tLoss: 1.461962\t Accuracy:98.449%\n",
            "Epoch : 12 [52800/60000 (88%)]\tLoss: 1.622061\t Accuracy:98.453%\n",
            "Epoch : 12 [54400/60000 (91%)]\tLoss: 1.461233\t Accuracy:98.440%\n",
            "Epoch : 12 [56000/60000 (93%)]\tLoss: 1.511873\t Accuracy:98.436%\n",
            "Epoch : 12 [57600/60000 (96%)]\tLoss: 1.467524\t Accuracy:98.450%\n",
            "Epoch : 12 [59200/60000 (99%)]\tLoss: 1.461201\t Accuracy:98.465%\n",
            "Epoch : 13 [0/60000 (0%)]\tLoss: 1.461474\t Accuracy:100.000%\n",
            "Epoch : 13 [1600/60000 (3%)]\tLoss: 1.587180\t Accuracy:98.072%\n",
            "Epoch : 13 [3200/60000 (5%)]\tLoss: 1.489920\t Accuracy:98.473%\n",
            "Epoch : 13 [4800/60000 (8%)]\tLoss: 1.463099\t Accuracy:98.565%\n",
            "Epoch : 13 [6400/60000 (11%)]\tLoss: 1.461206\t Accuracy:98.596%\n",
            "Epoch : 13 [8000/60000 (13%)]\tLoss: 1.461169\t Accuracy:98.564%\n",
            "Epoch : 13 [9600/60000 (16%)]\tLoss: 1.462804\t Accuracy:98.366%\n",
            "Epoch : 13 [11200/60000 (19%)]\tLoss: 1.462627\t Accuracy:98.430%\n",
            "Epoch : 13 [12800/60000 (21%)]\tLoss: 1.473787\t Accuracy:98.509%\n",
            "Epoch : 13 [14400/60000 (24%)]\tLoss: 1.539611\t Accuracy:98.529%\n",
            "Epoch : 13 [16000/60000 (27%)]\tLoss: 1.461185\t Accuracy:98.519%\n",
            "Epoch : 13 [17600/60000 (29%)]\tLoss: 1.468615\t Accuracy:98.535%\n",
            "Epoch : 13 [19200/60000 (32%)]\tLoss: 1.461318\t Accuracy:98.511%\n",
            "Epoch : 13 [20800/60000 (35%)]\tLoss: 1.461201\t Accuracy:98.501%\n",
            "Epoch : 13 [22400/60000 (37%)]\tLoss: 1.566159\t Accuracy:98.545%\n",
            "Epoch : 13 [24000/60000 (40%)]\tLoss: 1.464450\t Accuracy:98.567%\n",
            "Epoch : 13 [25600/60000 (43%)]\tLoss: 1.461375\t Accuracy:98.563%\n",
            "Epoch : 13 [27200/60000 (45%)]\tLoss: 1.521744\t Accuracy:98.545%\n",
            "Epoch : 13 [28800/60000 (48%)]\tLoss: 1.488505\t Accuracy:98.542%\n",
            "Epoch : 13 [30400/60000 (51%)]\tLoss: 1.461184\t Accuracy:98.546%\n",
            "Epoch : 13 [32000/60000 (53%)]\tLoss: 1.480228\t Accuracy:98.528%\n",
            "Epoch : 13 [33600/60000 (56%)]\tLoss: 1.480856\t Accuracy:98.530%\n",
            "Epoch : 13 [35200/60000 (59%)]\tLoss: 1.553529\t Accuracy:98.534%\n",
            "Epoch : 13 [36800/60000 (61%)]\tLoss: 1.461266\t Accuracy:98.533%\n",
            "Epoch : 13 [38400/60000 (64%)]\tLoss: 1.461164\t Accuracy:98.542%\n",
            "Epoch : 13 [40000/60000 (67%)]\tLoss: 1.461359\t Accuracy:98.548%\n",
            "Epoch : 13 [41600/60000 (69%)]\tLoss: 1.464259\t Accuracy:98.534%\n",
            "Epoch : 13 [43200/60000 (72%)]\tLoss: 1.576893\t Accuracy:98.530%\n",
            "Epoch : 13 [44800/60000 (75%)]\tLoss: 1.461490\t Accuracy:98.532%\n",
            "Epoch : 13 [46400/60000 (77%)]\tLoss: 1.467172\t Accuracy:98.502%\n",
            "Epoch : 13 [48000/60000 (80%)]\tLoss: 1.461895\t Accuracy:98.506%\n",
            "Epoch : 13 [49600/60000 (83%)]\tLoss: 1.465697\t Accuracy:98.502%\n",
            "Epoch : 13 [51200/60000 (85%)]\tLoss: 1.461484\t Accuracy:98.514%\n",
            "Epoch : 13 [52800/60000 (88%)]\tLoss: 1.631644\t Accuracy:98.527%\n",
            "Epoch : 13 [54400/60000 (91%)]\tLoss: 1.461191\t Accuracy:98.511%\n",
            "Epoch : 13 [56000/60000 (93%)]\tLoss: 1.472728\t Accuracy:98.509%\n",
            "Epoch : 13 [57600/60000 (96%)]\tLoss: 1.476635\t Accuracy:98.519%\n",
            "Epoch : 13 [59200/60000 (99%)]\tLoss: 1.461207\t Accuracy:98.522%\n",
            "Epoch : 14 [0/60000 (0%)]\tLoss: 1.462018\t Accuracy:100.000%\n",
            "Epoch : 14 [1600/60000 (3%)]\tLoss: 1.587216\t Accuracy:97.699%\n",
            "Epoch : 14 [3200/60000 (5%)]\tLoss: 1.461453\t Accuracy:98.161%\n",
            "Epoch : 14 [4800/60000 (8%)]\tLoss: 1.467863\t Accuracy:98.399%\n",
            "Epoch : 14 [6400/60000 (11%)]\tLoss: 1.461232\t Accuracy:98.424%\n",
            "Epoch : 14 [8000/60000 (13%)]\tLoss: 1.461152\t Accuracy:98.414%\n",
            "Epoch : 14 [9600/60000 (16%)]\tLoss: 1.464264\t Accuracy:98.283%\n",
            "Epoch : 14 [11200/60000 (19%)]\tLoss: 1.462127\t Accuracy:98.394%\n",
            "Epoch : 14 [12800/60000 (21%)]\tLoss: 1.463467\t Accuracy:98.462%\n",
            "Epoch : 14 [14400/60000 (24%)]\tLoss: 1.519976\t Accuracy:98.508%\n",
            "Epoch : 14 [16000/60000 (27%)]\tLoss: 1.461188\t Accuracy:98.501%\n",
            "Epoch : 14 [17600/60000 (29%)]\tLoss: 1.472461\t Accuracy:98.523%\n",
            "Epoch : 14 [19200/60000 (32%)]\tLoss: 1.462528\t Accuracy:98.511%\n",
            "Epoch : 14 [20800/60000 (35%)]\tLoss: 1.461188\t Accuracy:98.510%\n",
            "Epoch : 14 [22400/60000 (37%)]\tLoss: 1.569294\t Accuracy:98.541%\n",
            "Epoch : 14 [24000/60000 (40%)]\tLoss: 1.465283\t Accuracy:98.542%\n",
            "Epoch : 14 [25600/60000 (43%)]\tLoss: 1.461952\t Accuracy:98.547%\n",
            "Epoch : 14 [27200/60000 (45%)]\tLoss: 1.496253\t Accuracy:98.511%\n",
            "Epoch : 14 [28800/60000 (48%)]\tLoss: 1.508557\t Accuracy:98.493%\n",
            "Epoch : 14 [30400/60000 (51%)]\tLoss: 1.461173\t Accuracy:98.504%\n",
            "Epoch : 14 [32000/60000 (53%)]\tLoss: 1.464360\t Accuracy:98.507%\n",
            "Epoch : 14 [33600/60000 (56%)]\tLoss: 1.499035\t Accuracy:98.509%\n",
            "Epoch : 14 [35200/60000 (59%)]\tLoss: 1.524379\t Accuracy:98.523%\n",
            "Epoch : 14 [36800/60000 (61%)]\tLoss: 1.461325\t Accuracy:98.525%\n",
            "Epoch : 14 [38400/60000 (64%)]\tLoss: 1.461157\t Accuracy:98.526%\n",
            "Epoch : 14 [40000/60000 (67%)]\tLoss: 1.461360\t Accuracy:98.540%\n",
            "Epoch : 14 [41600/60000 (69%)]\tLoss: 1.476294\t Accuracy:98.515%\n",
            "Epoch : 14 [43200/60000 (72%)]\tLoss: 1.565150\t Accuracy:98.500%\n",
            "Epoch : 14 [44800/60000 (75%)]\tLoss: 1.461300\t Accuracy:98.511%\n",
            "Epoch : 14 [46400/60000 (77%)]\tLoss: 1.472549\t Accuracy:98.509%\n",
            "Epoch : 14 [48000/60000 (80%)]\tLoss: 1.463022\t Accuracy:98.496%\n",
            "Epoch : 14 [49600/60000 (83%)]\tLoss: 1.461909\t Accuracy:98.486%\n",
            "Epoch : 14 [51200/60000 (85%)]\tLoss: 1.464561\t Accuracy:98.494%\n",
            "Epoch : 14 [52800/60000 (88%)]\tLoss: 1.658934\t Accuracy:98.508%\n",
            "Epoch : 14 [54400/60000 (91%)]\tLoss: 1.461240\t Accuracy:98.493%\n",
            "Epoch : 14 [56000/60000 (93%)]\tLoss: 1.498294\t Accuracy:98.493%\n",
            "Epoch : 14 [57600/60000 (96%)]\tLoss: 1.463537\t Accuracy:98.505%\n",
            "Epoch : 14 [59200/60000 (99%)]\tLoss: 1.461188\t Accuracy:98.517%\n",
            "Epoch : 15 [0/60000 (0%)]\tLoss: 1.466599\t Accuracy:100.000%\n",
            "Epoch : 15 [1600/60000 (3%)]\tLoss: 1.588396\t Accuracy:98.072%\n",
            "Epoch : 15 [3200/60000 (5%)]\tLoss: 1.462550\t Accuracy:98.379%\n",
            "Epoch : 15 [4800/60000 (8%)]\tLoss: 1.462524\t Accuracy:98.440%\n",
            "Epoch : 15 [6400/60000 (11%)]\tLoss: 1.461400\t Accuracy:98.471%\n",
            "Epoch : 15 [8000/60000 (13%)]\tLoss: 1.461154\t Accuracy:98.477%\n",
            "Epoch : 15 [9600/60000 (16%)]\tLoss: 1.464474\t Accuracy:98.366%\n",
            "Epoch : 15 [11200/60000 (19%)]\tLoss: 1.464914\t Accuracy:98.412%\n",
            "Epoch : 15 [12800/60000 (21%)]\tLoss: 1.462719\t Accuracy:98.470%\n",
            "Epoch : 15 [14400/60000 (24%)]\tLoss: 1.539308\t Accuracy:98.529%\n",
            "Epoch : 15 [16000/60000 (27%)]\tLoss: 1.461173\t Accuracy:98.532%\n",
            "Epoch : 15 [17600/60000 (29%)]\tLoss: 1.467806\t Accuracy:98.546%\n",
            "Epoch : 15 [19200/60000 (32%)]\tLoss: 1.462003\t Accuracy:98.532%\n",
            "Epoch : 15 [20800/60000 (35%)]\tLoss: 1.461200\t Accuracy:98.525%\n",
            "Epoch : 15 [22400/60000 (37%)]\tLoss: 1.576635\t Accuracy:98.563%\n",
            "Epoch : 15 [24000/60000 (40%)]\tLoss: 1.465539\t Accuracy:98.571%\n",
            "Epoch : 15 [25600/60000 (43%)]\tLoss: 1.461305\t Accuracy:98.563%\n",
            "Epoch : 15 [27200/60000 (45%)]\tLoss: 1.499772\t Accuracy:98.504%\n",
            "Epoch : 15 [28800/60000 (48%)]\tLoss: 1.473586\t Accuracy:98.500%\n",
            "Epoch : 15 [30400/60000 (51%)]\tLoss: 1.461176\t Accuracy:98.514%\n",
            "Epoch : 15 [32000/60000 (53%)]\tLoss: 1.462088\t Accuracy:98.519%\n",
            "Epoch : 15 [33600/60000 (56%)]\tLoss: 1.471475\t Accuracy:98.509%\n",
            "Epoch : 15 [35200/60000 (59%)]\tLoss: 1.488518\t Accuracy:98.526%\n",
            "Epoch : 15 [36800/60000 (61%)]\tLoss: 1.461179\t Accuracy:98.525%\n",
            "Epoch : 15 [38400/60000 (64%)]\tLoss: 1.461552\t Accuracy:98.534%\n",
            "Epoch : 15 [40000/60000 (67%)]\tLoss: 1.461475\t Accuracy:98.540%\n",
            "Epoch : 15 [41600/60000 (69%)]\tLoss: 1.533993\t Accuracy:98.524%\n",
            "Epoch : 15 [43200/60000 (72%)]\tLoss: 1.553638\t Accuracy:98.516%\n",
            "Epoch : 15 [44800/60000 (75%)]\tLoss: 1.461284\t Accuracy:98.520%\n",
            "Epoch : 15 [46400/60000 (77%)]\tLoss: 1.507300\t Accuracy:98.511%\n",
            "Epoch : 15 [48000/60000 (80%)]\tLoss: 1.461797\t Accuracy:98.511%\n",
            "Epoch : 15 [49600/60000 (83%)]\tLoss: 1.463392\t Accuracy:98.504%\n",
            "Epoch : 15 [51200/60000 (85%)]\tLoss: 1.463051\t Accuracy:98.506%\n",
            "Epoch : 15 [52800/60000 (88%)]\tLoss: 1.601762\t Accuracy:98.523%\n",
            "Epoch : 15 [54400/60000 (91%)]\tLoss: 1.461207\t Accuracy:98.504%\n",
            "Epoch : 15 [56000/60000 (93%)]\tLoss: 1.476707\t Accuracy:98.506%\n",
            "Epoch : 15 [57600/60000 (96%)]\tLoss: 1.465579\t Accuracy:98.519%\n",
            "Epoch : 15 [59200/60000 (99%)]\tLoss: 1.461191\t Accuracy:98.534%\n",
            "Epoch : 16 [0/60000 (0%)]\tLoss: 1.461421\t Accuracy:100.000%\n",
            "Epoch : 16 [1600/60000 (3%)]\tLoss: 1.586356\t Accuracy:98.072%\n",
            "Epoch : 16 [3200/60000 (5%)]\tLoss: 1.466271\t Accuracy:98.535%\n",
            "Epoch : 16 [4800/60000 (8%)]\tLoss: 1.462950\t Accuracy:98.565%\n",
            "Epoch : 16 [6400/60000 (11%)]\tLoss: 1.461241\t Accuracy:98.564%\n",
            "Epoch : 16 [8000/60000 (13%)]\tLoss: 1.461153\t Accuracy:98.539%\n",
            "Epoch : 16 [9600/60000 (16%)]\tLoss: 1.463609\t Accuracy:98.366%\n",
            "Epoch : 16 [11200/60000 (19%)]\tLoss: 1.465047\t Accuracy:98.448%\n",
            "Epoch : 16 [12800/60000 (21%)]\tLoss: 1.463485\t Accuracy:98.509%\n",
            "Epoch : 16 [14400/60000 (24%)]\tLoss: 1.534794\t Accuracy:98.563%\n",
            "Epoch : 16 [16000/60000 (27%)]\tLoss: 1.461167\t Accuracy:98.582%\n",
            "Epoch : 16 [17600/60000 (29%)]\tLoss: 1.492107\t Accuracy:98.586%\n",
            "Epoch : 16 [19200/60000 (32%)]\tLoss: 1.461691\t Accuracy:98.553%\n",
            "Epoch : 16 [20800/60000 (35%)]\tLoss: 1.461246\t Accuracy:98.573%\n",
            "Epoch : 16 [22400/60000 (37%)]\tLoss: 1.567064\t Accuracy:98.603%\n",
            "Epoch : 16 [24000/60000 (40%)]\tLoss: 1.462440\t Accuracy:98.605%\n",
            "Epoch : 16 [25600/60000 (43%)]\tLoss: 1.461521\t Accuracy:98.614%\n",
            "Epoch : 16 [27200/60000 (45%)]\tLoss: 1.487982\t Accuracy:98.570%\n",
            "Epoch : 16 [28800/60000 (48%)]\tLoss: 1.522157\t Accuracy:98.570%\n",
            "Epoch : 16 [30400/60000 (51%)]\tLoss: 1.461183\t Accuracy:98.566%\n",
            "Epoch : 16 [32000/60000 (53%)]\tLoss: 1.472760\t Accuracy:98.563%\n",
            "Epoch : 16 [33600/60000 (56%)]\tLoss: 1.466420\t Accuracy:98.569%\n",
            "Epoch : 16 [35200/60000 (59%)]\tLoss: 1.500262\t Accuracy:98.577%\n",
            "Epoch : 16 [36800/60000 (61%)]\tLoss: 1.461214\t Accuracy:98.590%\n",
            "Epoch : 16 [38400/60000 (64%)]\tLoss: 1.461161\t Accuracy:98.607%\n",
            "Epoch : 16 [40000/60000 (67%)]\tLoss: 1.461348\t Accuracy:98.605%\n",
            "Epoch : 16 [41600/60000 (69%)]\tLoss: 1.468864\t Accuracy:98.582%\n",
            "Epoch : 16 [43200/60000 (72%)]\tLoss: 1.544899\t Accuracy:98.563%\n",
            "Epoch : 16 [44800/60000 (75%)]\tLoss: 1.461263\t Accuracy:98.569%\n",
            "Epoch : 16 [46400/60000 (77%)]\tLoss: 1.480439\t Accuracy:98.563%\n",
            "Epoch : 16 [48000/60000 (80%)]\tLoss: 1.461795\t Accuracy:98.556%\n",
            "Epoch : 16 [49600/60000 (83%)]\tLoss: 1.467040\t Accuracy:98.543%\n",
            "Epoch : 16 [51200/60000 (85%)]\tLoss: 1.462434\t Accuracy:98.543%\n",
            "Epoch : 16 [52800/60000 (88%)]\tLoss: 1.623803\t Accuracy:98.559%\n",
            "Epoch : 16 [54400/60000 (91%)]\tLoss: 1.461225\t Accuracy:98.546%\n",
            "Epoch : 16 [56000/60000 (93%)]\tLoss: 1.470420\t Accuracy:98.543%\n",
            "Epoch : 16 [57600/60000 (96%)]\tLoss: 1.473746\t Accuracy:98.557%\n",
            "Epoch : 16 [59200/60000 (99%)]\tLoss: 1.461211\t Accuracy:98.576%\n",
            "Epoch : 17 [0/60000 (0%)]\tLoss: 1.463606\t Accuracy:100.000%\n",
            "Epoch : 17 [1600/60000 (3%)]\tLoss: 1.589725\t Accuracy:98.197%\n",
            "Epoch : 17 [3200/60000 (5%)]\tLoss: 1.461480\t Accuracy:98.410%\n",
            "Epoch : 17 [4800/60000 (8%)]\tLoss: 1.464854\t Accuracy:98.565%\n",
            "Epoch : 17 [6400/60000 (11%)]\tLoss: 1.461186\t Accuracy:98.564%\n",
            "Epoch : 17 [8000/60000 (13%)]\tLoss: 1.461154\t Accuracy:98.589%\n",
            "Epoch : 17 [9600/60000 (16%)]\tLoss: 1.463178\t Accuracy:98.491%\n",
            "Epoch : 17 [11200/60000 (19%)]\tLoss: 1.464302\t Accuracy:98.510%\n",
            "Epoch : 17 [12800/60000 (21%)]\tLoss: 1.469635\t Accuracy:98.595%\n",
            "Epoch : 17 [14400/60000 (24%)]\tLoss: 1.482167\t Accuracy:98.626%\n",
            "Epoch : 17 [16000/60000 (27%)]\tLoss: 1.461159\t Accuracy:98.638%\n",
            "Epoch : 17 [17600/60000 (29%)]\tLoss: 1.471603\t Accuracy:98.626%\n",
            "Epoch : 17 [19200/60000 (32%)]\tLoss: 1.461282\t Accuracy:98.600%\n",
            "Epoch : 17 [20800/60000 (35%)]\tLoss: 1.461275\t Accuracy:98.577%\n",
            "Epoch : 17 [22400/60000 (37%)]\tLoss: 1.580524\t Accuracy:98.621%\n",
            "Epoch : 17 [24000/60000 (40%)]\tLoss: 1.463086\t Accuracy:98.630%\n",
            "Epoch : 17 [25600/60000 (43%)]\tLoss: 1.461598\t Accuracy:98.641%\n",
            "Epoch : 17 [27200/60000 (45%)]\tLoss: 1.483806\t Accuracy:98.596%\n",
            "Epoch : 17 [28800/60000 (48%)]\tLoss: 1.485244\t Accuracy:98.601%\n",
            "Epoch : 17 [30400/60000 (51%)]\tLoss: 1.461163\t Accuracy:98.592%\n",
            "Epoch : 17 [32000/60000 (53%)]\tLoss: 1.469136\t Accuracy:98.585%\n",
            "Epoch : 17 [33600/60000 (56%)]\tLoss: 1.463153\t Accuracy:98.575%\n",
            "Epoch : 17 [35200/60000 (59%)]\tLoss: 1.480100\t Accuracy:98.586%\n",
            "Epoch : 17 [36800/60000 (61%)]\tLoss: 1.461293\t Accuracy:98.601%\n",
            "Epoch : 17 [38400/60000 (64%)]\tLoss: 1.461165\t Accuracy:98.612%\n",
            "Epoch : 17 [40000/60000 (67%)]\tLoss: 1.461254\t Accuracy:98.610%\n",
            "Epoch : 17 [41600/60000 (69%)]\tLoss: 1.475836\t Accuracy:98.589%\n",
            "Epoch : 17 [43200/60000 (72%)]\tLoss: 1.585404\t Accuracy:98.577%\n",
            "Epoch : 17 [44800/60000 (75%)]\tLoss: 1.461223\t Accuracy:98.569%\n",
            "Epoch : 17 [46400/60000 (77%)]\tLoss: 1.472398\t Accuracy:98.552%\n",
            "Epoch : 17 [48000/60000 (80%)]\tLoss: 1.462375\t Accuracy:98.542%\n",
            "Epoch : 17 [49600/60000 (83%)]\tLoss: 1.462945\t Accuracy:98.535%\n",
            "Epoch : 17 [51200/60000 (85%)]\tLoss: 1.461898\t Accuracy:98.541%\n",
            "Epoch : 17 [52800/60000 (88%)]\tLoss: 1.615599\t Accuracy:98.555%\n",
            "Epoch : 17 [54400/60000 (91%)]\tLoss: 1.461267\t Accuracy:98.541%\n",
            "Epoch : 17 [56000/60000 (93%)]\tLoss: 1.477453\t Accuracy:98.539%\n",
            "Epoch : 17 [57600/60000 (96%)]\tLoss: 1.503085\t Accuracy:98.557%\n",
            "Epoch : 17 [59200/60000 (99%)]\tLoss: 1.461195\t Accuracy:98.558%\n",
            "Epoch : 18 [0/60000 (0%)]\tLoss: 1.461558\t Accuracy:100.000%\n",
            "Epoch : 18 [1600/60000 (3%)]\tLoss: 1.586266\t Accuracy:98.134%\n",
            "Epoch : 18 [3200/60000 (5%)]\tLoss: 1.465171\t Accuracy:98.628%\n",
            "Epoch : 18 [4800/60000 (8%)]\tLoss: 1.463534\t Accuracy:98.648%\n",
            "Epoch : 18 [6400/60000 (11%)]\tLoss: 1.461172\t Accuracy:98.627%\n",
            "Epoch : 18 [8000/60000 (13%)]\tLoss: 1.461160\t Accuracy:98.614%\n",
            "Epoch : 18 [9600/60000 (16%)]\tLoss: 1.461443\t Accuracy:98.428%\n",
            "Epoch : 18 [11200/60000 (19%)]\tLoss: 1.462945\t Accuracy:98.483%\n",
            "Epoch : 18 [12800/60000 (21%)]\tLoss: 1.470697\t Accuracy:98.556%\n",
            "Epoch : 18 [14400/60000 (24%)]\tLoss: 1.555327\t Accuracy:98.577%\n",
            "Epoch : 18 [16000/60000 (27%)]\tLoss: 1.461161\t Accuracy:98.576%\n",
            "Epoch : 18 [17600/60000 (29%)]\tLoss: 1.481053\t Accuracy:98.586%\n",
            "Epoch : 18 [19200/60000 (32%)]\tLoss: 1.461324\t Accuracy:98.563%\n",
            "Epoch : 18 [20800/60000 (35%)]\tLoss: 1.461265\t Accuracy:98.558%\n",
            "Epoch : 18 [22400/60000 (37%)]\tLoss: 1.570804\t Accuracy:98.599%\n",
            "Epoch : 18 [24000/60000 (40%)]\tLoss: 1.462860\t Accuracy:98.609%\n",
            "Epoch : 18 [25600/60000 (43%)]\tLoss: 1.461256\t Accuracy:98.625%\n",
            "Epoch : 18 [27200/60000 (45%)]\tLoss: 1.482096\t Accuracy:98.603%\n",
            "Epoch : 18 [28800/60000 (48%)]\tLoss: 1.493568\t Accuracy:98.605%\n",
            "Epoch : 18 [30400/60000 (51%)]\tLoss: 1.461242\t Accuracy:98.612%\n",
            "Epoch : 18 [32000/60000 (53%)]\tLoss: 1.491004\t Accuracy:98.610%\n",
            "Epoch : 18 [33600/60000 (56%)]\tLoss: 1.469934\t Accuracy:98.596%\n",
            "Epoch : 18 [35200/60000 (59%)]\tLoss: 1.480753\t Accuracy:98.611%\n",
            "Epoch : 18 [36800/60000 (61%)]\tLoss: 1.461273\t Accuracy:98.623%\n",
            "Epoch : 18 [38400/60000 (64%)]\tLoss: 1.461175\t Accuracy:98.628%\n",
            "Epoch : 18 [40000/60000 (67%)]\tLoss: 1.461299\t Accuracy:98.633%\n",
            "Epoch : 18 [41600/60000 (69%)]\tLoss: 1.499226\t Accuracy:98.611%\n",
            "Epoch : 18 [43200/60000 (72%)]\tLoss: 1.517064\t Accuracy:98.600%\n",
            "Epoch : 18 [44800/60000 (75%)]\tLoss: 1.461234\t Accuracy:98.601%\n",
            "Epoch : 18 [46400/60000 (77%)]\tLoss: 1.493780\t Accuracy:98.586%\n",
            "Epoch : 18 [48000/60000 (80%)]\tLoss: 1.461459\t Accuracy:98.581%\n",
            "Epoch : 18 [49600/60000 (83%)]\tLoss: 1.469514\t Accuracy:98.581%\n",
            "Epoch : 18 [51200/60000 (85%)]\tLoss: 1.462608\t Accuracy:98.580%\n",
            "Epoch : 18 [52800/60000 (88%)]\tLoss: 1.622968\t Accuracy:98.585%\n",
            "Epoch : 18 [54400/60000 (91%)]\tLoss: 1.461326\t Accuracy:98.566%\n",
            "Epoch : 18 [56000/60000 (93%)]\tLoss: 1.465155\t Accuracy:98.566%\n",
            "Epoch : 18 [57600/60000 (96%)]\tLoss: 1.493701\t Accuracy:98.582%\n",
            "Epoch : 18 [59200/60000 (99%)]\tLoss: 1.461190\t Accuracy:98.588%\n",
            "Epoch : 19 [0/60000 (0%)]\tLoss: 1.462403\t Accuracy:100.000%\n",
            "Epoch : 19 [1600/60000 (3%)]\tLoss: 1.586805\t Accuracy:98.197%\n",
            "Epoch : 19 [3200/60000 (5%)]\tLoss: 1.462363\t Accuracy:98.535%\n",
            "Epoch : 19 [4800/60000 (8%)]\tLoss: 1.462852\t Accuracy:98.627%\n",
            "Epoch : 19 [6400/60000 (11%)]\tLoss: 1.461243\t Accuracy:98.596%\n",
            "Epoch : 19 [8000/60000 (13%)]\tLoss: 1.461159\t Accuracy:98.589%\n",
            "Epoch : 19 [9600/60000 (16%)]\tLoss: 1.461396\t Accuracy:98.491%\n",
            "Epoch : 19 [11200/60000 (19%)]\tLoss: 1.462962\t Accuracy:98.564%\n",
            "Epoch : 19 [12800/60000 (21%)]\tLoss: 1.464550\t Accuracy:98.649%\n",
            "Epoch : 19 [14400/60000 (24%)]\tLoss: 1.527671\t Accuracy:98.674%\n",
            "Epoch : 19 [16000/60000 (27%)]\tLoss: 1.461163\t Accuracy:98.688%\n",
            "Epoch : 19 [17600/60000 (29%)]\tLoss: 1.475349\t Accuracy:98.694%\n",
            "Epoch : 19 [19200/60000 (32%)]\tLoss: 1.461399\t Accuracy:98.652%\n",
            "Epoch : 19 [20800/60000 (35%)]\tLoss: 1.461232\t Accuracy:98.659%\n",
            "Epoch : 19 [22400/60000 (37%)]\tLoss: 1.567793\t Accuracy:98.697%\n",
            "Epoch : 19 [24000/60000 (40%)]\tLoss: 1.462890\t Accuracy:98.700%\n",
            "Epoch : 19 [25600/60000 (43%)]\tLoss: 1.461658\t Accuracy:98.700%\n",
            "Epoch : 19 [27200/60000 (45%)]\tLoss: 1.472497\t Accuracy:98.662%\n",
            "Epoch : 19 [28800/60000 (48%)]\tLoss: 1.506610\t Accuracy:98.657%\n",
            "Epoch : 19 [30400/60000 (51%)]\tLoss: 1.461162\t Accuracy:98.685%\n",
            "Epoch : 19 [32000/60000 (53%)]\tLoss: 1.463345\t Accuracy:98.678%\n",
            "Epoch : 19 [33600/60000 (56%)]\tLoss: 1.466605\t Accuracy:98.664%\n",
            "Epoch : 19 [35200/60000 (59%)]\tLoss: 1.515789\t Accuracy:98.676%\n",
            "Epoch : 19 [36800/60000 (61%)]\tLoss: 1.461270\t Accuracy:98.677%\n",
            "Epoch : 19 [38400/60000 (64%)]\tLoss: 1.461171\t Accuracy:98.677%\n",
            "Epoch : 19 [40000/60000 (67%)]\tLoss: 1.461236\t Accuracy:98.683%\n",
            "Epoch : 19 [41600/60000 (69%)]\tLoss: 1.466026\t Accuracy:98.669%\n",
            "Epoch : 19 [43200/60000 (72%)]\tLoss: 1.565477\t Accuracy:98.646%\n",
            "Epoch : 19 [44800/60000 (75%)]\tLoss: 1.461517\t Accuracy:98.656%\n",
            "Epoch : 19 [46400/60000 (77%)]\tLoss: 1.468283\t Accuracy:98.634%\n",
            "Epoch : 19 [48000/60000 (80%)]\tLoss: 1.462055\t Accuracy:98.629%\n",
            "Epoch : 19 [49600/60000 (83%)]\tLoss: 1.465017\t Accuracy:98.627%\n",
            "Epoch : 19 [51200/60000 (85%)]\tLoss: 1.461900\t Accuracy:98.627%\n",
            "Epoch : 19 [52800/60000 (88%)]\tLoss: 1.624430\t Accuracy:98.638%\n",
            "Epoch : 19 [54400/60000 (91%)]\tLoss: 1.461292\t Accuracy:98.627%\n",
            "Epoch : 19 [56000/60000 (93%)]\tLoss: 1.475567\t Accuracy:98.623%\n",
            "Epoch : 19 [57600/60000 (96%)]\tLoss: 1.467548\t Accuracy:98.634%\n",
            "Epoch : 19 [59200/60000 (99%)]\tLoss: 1.461203\t Accuracy:98.649%\n"
          ],
          "name": "stdout"
        }
      ]
    },
    {
      "cell_type": "markdown",
      "metadata": {
        "id": "inxDDeCyU6_H"
      },
      "source": [
        "Running the test function defined above\n"
      ]
    },
    {
      "cell_type": "code",
      "metadata": {
        "colab": {
          "base_uri": "https://localhost:8080/"
        },
        "id": "mU2zLhyg92bu",
        "outputId": "da37c556-95f6-44bf-ce75-a97c65ff194e"
      },
      "source": [
        "test(net, test_loader)"
      ],
      "execution_count": 8,
      "outputs": [
        {
          "output_type": "stream",
          "text": [
            "Test accuracy:98.520% \n"
          ],
          "name": "stdout"
        }
      ]
    },
    {
      "cell_type": "markdown",
      "metadata": {
        "id": "4O_fyaSRRd60"
      },
      "source": [
        "The following code is based on [this article](https://ai.googleblog.com/2015/06/inceptionism-going-deeper-into-neural.html) on Deep Dream.\n",
        "\n",
        "We have trained our network to classify the numbers, but is there a way to know what exactly the network is searching for to classify them? In other words we would now like to tell the network to draw a number and see the output\n",
        "\n",
        "We can do this by allowing the errors to be minimised by changing the input instead of the weights of the model. So the model is frozen and the input now is the Variable to optimize. The following loop is run\n",
        "\n",
        "1. Initialize image tensor as im (maybe with all zeros).\n",
        "2. Pass the image through the network.\n",
        "3. Compute the loss with output of the net and expected output, say 7.\n",
        "4. Run backpropogation upto the image tensor.\n",
        "5. Update the image using the update rule. (Specified by torch.optim object)"
      ]
    },
    {
      "cell_type": "code",
      "metadata": {
        "id": "-CT2FsVPEyYM"
      },
      "source": [
        "def train_im(model, train_loader, digit = 7 ,iters = 1000, lossF = None):\n",
        "  \"\"\"\n",
        "  Train the input image to match the <digit>. Run <iters> iterations of Gradient Descent.  \n",
        "  \"\"\"\n",
        "  im = torch.zeros_like(train_data[1][0]).view(1, 1, 28, 28).to(device)\n",
        "  im = Variable(im, requires_grad = True)\n",
        "  digit = Variable(torch.tensor(digit)).to(device).view(1)\n",
        "\n",
        "  if lossF == None:\n",
        "    lossF = nn.CrossEntropyLoss() #Cross entropy loss is popularly used for classification tasks. \n",
        "  \n",
        "  optim = torch.optim.Adam ([im,], lr = 1e-3) \n",
        "  \n",
        "  # Put your code here: \n",
        "  # __begin\n",
        "  for epoch in range(iters):\n",
        "      output = model(im)\n",
        "\n",
        "      # print(output)\n",
        "      # print(output.size(), var_y_batch.size())\n",
        "      \n",
        "      ## Calculate the loss incurred\n",
        "      loss = lossF (output, digit)\n",
        "      \n",
        "      ## BackProp: Computes all gradients.\n",
        "      loss.backward()\n",
        "      \n",
        "      ## Gradient Descent Step (Adam)\n",
        "      optim.step()\n",
        "      optim.zero_grad() # This is important because PyTorch keeps on adding to the original value of gradient.\n",
        "\n",
        "  \n",
        "  #__end\n",
        "    \n",
        "  return im"
      ],
      "execution_count": 9,
      "outputs": []
    },
    {
      "cell_type": "code",
      "metadata": {
        "colab": {
          "base_uri": "https://localhost:8080/",
          "height": 283
        },
        "id": "-hcvC3TlR3Zs",
        "outputId": "16d44284-0e6f-4d84-8f61-df151ebcda09"
      },
      "source": [
        "## Let's run our function for 7 and see what image we get.\n",
        "\n",
        "im = train_im (net, train_loader, digit=7,iters=10000)\n",
        "im = np.asarray(im.view(28, 28).cpu().detach())\n",
        "plt.imshow(im)"
      ],
      "execution_count": 10,
      "outputs": [
        {
          "output_type": "execute_result",
          "data": {
            "text/plain": [
              "<matplotlib.image.AxesImage at 0x7f53908d4dd0>"
            ]
          },
          "metadata": {
            "tags": []
          },
          "execution_count": 10
        },
        {
          "output_type": "display_data",
          "data": {
            "image/png": "[encoded data removed]",
            "text/plain": [
              "<Figure size 432x288 with 1 Axes>"
            ]
          },
          "metadata": {
            "tags": [],
            "needs_background": "light"
          }
        }
      ]
    },
    {
      "cell_type": "markdown",
      "metadata": {
        "id": "neETLR1Ub0my"
      },
      "source": [
        "In the the following cell we will run the function for all the digits from 0 to 9 and print the outputs! \n"
      ]
    },
    {
      "cell_type": "code",
      "metadata": {
        "colab": {
          "base_uri": "https://localhost:8080/",
          "height": 1000
        },
        "id": "cPoDpHbvZ9TE",
        "outputId": "8d951cb8-fc38-4871-c1d5-8f4365718947"
      },
      "source": [
        "for i in range (10):\n",
        "  im = train_im (net, train_loader, digit=i, iters=1000)\n",
        "  im = np.asarray(im.view(28, 28).cpu().detach())\n",
        "  print (i)\n",
        "  plt.imshow(im)\n",
        "  plt.show()"
      ],
      "execution_count": 11,
      "outputs": [
        {
          "output_type": "stream",
          "text": [
            "0\n"
          ],
          "name": "stdout"
        },
        {
          "output_type": "display_data",
          "data": {
            "image/png": "[encoded data removed]",
            "text/plain": [
              "<Figure size 432x288 with 1 Axes>"
            ]
          },
          "metadata": {
            "tags": [],
            "needs_background": "light"
          }
        },
        {
          "output_type": "stream",
          "text": [
            "1\n"
          ],
          "name": "stdout"
        },
        {
          "output_type": "display_data",
          "data": {
            "image/png": "[encoded data removed]",
            "text/plain": [
              "<Figure size 432x288 with 1 Axes>"
            ]
          },
          "metadata": {
            "tags": [],
            "needs_background": "light"
          }
        },
        {
          "output_type": "stream",
          "text": [
            "2\n"
          ],
          "name": "stdout"
        },
        {
          "output_type": "display_data",
          "data": {
            "image/png": "[encoded data removed]",
            "text/plain": [
              "<Figure size 432x288 with 1 Axes>"
            ]
          },
          "metadata": {
            "tags": [],
            "needs_background": "light"
          }
        },
        {
          "output_type": "stream",
          "text": [
            "3\n"
          ],
          "name": "stdout"
        },
        {
          "output_type": "display_data",
          "data": {
            "image/png": "[encoded data removed]",
            "text/plain": [
              "<Figure size 432x288 with 1 Axes>"
            ]
          },
          "metadata": {
            "tags": [],
            "needs_background": "light"
          }
        },
        {
          "output_type": "stream",
          "text": [
            "4\n"
          ],
          "name": "stdout"
        },
        {
          "output_type": "display_data",
          "data": {
            "image/png": "[encoded data removed]",
            "text/plain": [
              "<Figure size 432x288 with 1 Axes>"
            ]
          },
          "metadata": {
            "tags": [],
            "needs_background": "light"
          }
        },
        {
          "output_type": "stream",
          "text": [
            "5\n"
          ],
          "name": "stdout"
        },
        {
          "output_type": "display_data",
          "data": {
            "image/png": "[encoded data removed]",
            "text/plain": [
              "<Figure size 432x288 with 1 Axes>"
            ]
          },
          "metadata": {
            "tags": [],
            "needs_background": "light"
          }
        },
        {
          "output_type": "stream",
          "text": [
            "6\n"
          ],
          "name": "stdout"
        },
        {
          "output_type": "display_data",
          "data": {
            "image/png": "[encoded data removed]",
            "text/plain": [
              "<Figure size 432x288 with 1 Axes>"
            ]
          },
          "metadata": {
            "tags": [],
            "needs_background": "light"
          }
        },
        {
          "output_type": "stream",
          "text": [
            "7\n"
          ],
          "name": "stdout"
        },
        {
          "output_type": "display_data",
          "data": {
            "image/png": "[encoded data removed]",
            "text/plain": [
              "<Figure size 432x288 with 1 Axes>"
            ]
          },
          "metadata": {
            "tags": [],
            "needs_background": "light"
          }
        },
        {
          "output_type": "stream",
          "text": [
            "8\n"
          ],
          "name": "stdout"
        },
        {
          "output_type": "display_data",
          "data": {
            "image/png": "[encoded data removed]",
            "text/plain": [
              "<Figure size 432x288 with 1 Axes>"
            ]
          },
          "metadata": {
            "tags": [],
            "needs_background": "light"
          }
        },
        {
          "output_type": "stream",
          "text": [
            "9\n"
          ],
          "name": "stdout"
        },
        {
          "output_type": "display_data",
          "data": {
            "image/png": "[encoded data removed]",
            "text/plain": [
              "<Figure size 432x288 with 1 Axes>"
            ]
          },
          "metadata": {
            "tags": [],
            "needs_background": "light"
          }
        }
      ]
    },
    {
      "cell_type": "code",
      "metadata": {
        "id": "l0Jns3heK4R_"
      },
      "source": [
        ""
      ],
      "execution_count": null,
      "outputs": []
    }
  ]
}